{
 "cells": [
  {
   "cell_type": "code",
   "execution_count": 1,
   "id": "2967ea95",
   "metadata": {
    "_cell_guid": "b1076dfc-b9ad-4769-8c92-a6c4dae69d19",
    "_uuid": "8f2839f25d086af736a60e9eeb907d3b93b6e0e5",
    "execution": {
     "iopub.execute_input": "2025-06-01T14:48:29.653538Z",
     "iopub.status.busy": "2025-06-01T14:48:29.652608Z",
     "iopub.status.idle": "2025-06-01T14:48:48.344907Z",
     "shell.execute_reply": "2025-06-01T14:48:48.343536Z"
    },
    "papermill": {
     "duration": 18.702509,
     "end_time": "2025-06-01T14:48:48.346807",
     "exception": false,
     "start_time": "2025-06-01T14:48:29.644298",
     "status": "completed"
    },
    "tags": []
   },
   "outputs": [],
   "source": [
    "import pandas as pd\n",
    "file_path = r'/kaggle/input/wallets_features_classes_combined.csv'\n",
    "df_wallets_features_classes_combined = pd.read_csv(file_path)"
   ]
  },
  {
   "cell_type": "code",
   "execution_count": 2,
   "id": "454471df",
   "metadata": {
    "execution": {
     "iopub.execute_input": "2025-06-01T14:48:48.361131Z",
     "iopub.status.busy": "2025-06-01T14:48:48.360824Z",
     "iopub.status.idle": "2025-06-01T14:48:48.885068Z",
     "shell.execute_reply": "2025-06-01T14:48:48.884186Z"
    },
    "papermill": {
     "duration": 0.533186,
     "end_time": "2025-06-01T14:48:48.886796",
     "exception": false,
     "start_time": "2025-06-01T14:48:48.353610",
     "status": "completed"
    },
    "tags": []
   },
   "outputs": [],
   "source": [
    "import optuna"
   ]
  },
  {
   "cell_type": "code",
   "execution_count": 3,
   "id": "ce397525",
   "metadata": {
    "execution": {
     "iopub.execute_input": "2025-06-01T14:48:48.900159Z",
     "iopub.status.busy": "2025-06-01T14:48:48.899879Z",
     "iopub.status.idle": "2025-06-01T14:48:52.594105Z",
     "shell.execute_reply": "2025-06-01T14:48:52.593116Z"
    },
    "papermill": {
     "duration": 3.702864,
     "end_time": "2025-06-01T14:48:52.595829",
     "exception": false,
     "start_time": "2025-06-01T14:48:48.892965",
     "status": "completed"
    },
    "tags": []
   },
   "outputs": [],
   "source": [
    "# 2. Preprocess data\n",
    "df_wallets_classification = df_wallets_features_classes_combined.drop(columns=['Time step']).drop_duplicates()\n",
    "data = df_wallets_classification.loc[(df_wallets_classification['class'] != 3), 'address']\n",
    "df_wallets_feature_selected = df_wallets_classification.loc[df_wallets_classification['address'].isin(data)]"
   ]
  },
  {
   "cell_type": "code",
   "execution_count": 4,
   "id": "83b5a296",
   "metadata": {
    "execution": {
     "iopub.execute_input": "2025-06-01T14:48:52.609041Z",
     "iopub.status.busy": "2025-06-01T14:48:52.608737Z",
     "iopub.status.idle": "2025-06-01T14:48:54.892532Z",
     "shell.execute_reply": "2025-06-01T14:48:54.891615Z"
    },
    "papermill": {
     "duration": 2.292218,
     "end_time": "2025-06-01T14:48:54.894198",
     "exception": false,
     "start_time": "2025-06-01T14:48:52.601980",
     "status": "completed"
    },
    "tags": []
   },
   "outputs": [],
   "source": [
    "from sklearn.model_selection import train_test_split\n",
    "from sklearn.ensemble import RandomForestClassifier\n",
    "from sklearn.metrics import precision_recall_fscore_support\n",
    "from sklearn.model_selection import train_test_split\n",
    "from sklearn.linear_model import LogisticRegression\n",
    "from sklearn.neural_network import MLPClassifier\n",
    "from sklearn.metrics import f1_score, accuracy_score, confusion_matrix\n",
    "from sklearn.cluster import KMeans\n",
    "from sklearn.model_selection import GridSearchCV\n",
    "from sklearn.preprocessing import MinMaxScaler\n",
    "from sklearn.ensemble import VotingClassifier\n",
    "from sklearn.base import clone \n",
    "import xgboost as xgb"
   ]
  },
  {
   "cell_type": "code",
   "execution_count": 5,
   "id": "dee49c2b",
   "metadata": {
    "execution": {
     "iopub.execute_input": "2025-06-01T14:48:54.908359Z",
     "iopub.status.busy": "2025-06-01T14:48:54.907354Z",
     "iopub.status.idle": "2025-06-01T14:48:55.100037Z",
     "shell.execute_reply": "2025-06-01T14:48:55.098965Z"
    },
    "papermill": {
     "duration": 0.201213,
     "end_time": "2025-06-01T14:48:55.101698",
     "exception": false,
     "start_time": "2025-06-01T14:48:54.900485",
     "status": "completed"
    },
    "tags": []
   },
   "outputs": [],
   "source": [
    "# Define X and y\n",
    "y = df_wallets_feature_selected[['class']]\n",
    "y = y['class'].apply(lambda x: 0 if x == 2 else 1 )\n",
    "X = df_wallets_feature_selected.drop(columns=['address', 'class'])\n",
    "\n",
    "# Train/Test Split (use a smaller test_size for faster experimentation)\n",
    "X_train, X_test, y_train, y_test = train_test_split(X, y, test_size=0.3, random_state=42, shuffle=False)"
   ]
  },
  {
   "cell_type": "code",
   "execution_count": 6,
   "id": "ef567be7",
   "metadata": {
    "execution": {
     "iopub.execute_input": "2025-06-01T14:48:55.115801Z",
     "iopub.status.busy": "2025-06-01T14:48:55.114968Z",
     "iopub.status.idle": "2025-06-01T14:48:55.261700Z",
     "shell.execute_reply": "2025-06-01T14:48:55.260717Z"
    },
    "papermill": {
     "duration": 0.155622,
     "end_time": "2025-06-01T14:48:55.263461",
     "exception": false,
     "start_time": "2025-06-01T14:48:55.107839",
     "status": "completed"
    },
    "tags": []
   },
   "outputs": [],
   "source": [
    "# Scaling\n",
    "scaler = MinMaxScaler()\n",
    "X_train_scaled = scaler.fit_transform(X_train)\n",
    "X_test_scaled = scaler.transform(X_test)\n",
    "\n",
    "X_train_scaled = pd.DataFrame(X_train_scaled, columns=X_train.columns)\n",
    "X_test_scaled = pd.DataFrame(X_test_scaled, columns=X_test.columns)\n",
    "\n",
    "y_train = y_train.values.ravel()\n",
    "y_test = y_test.values.ravel()"
   ]
  },
  {
   "cell_type": "code",
   "execution_count": 7,
   "id": "62235e77",
   "metadata": {
    "execution": {
     "iopub.execute_input": "2025-06-01T14:48:55.277020Z",
     "iopub.status.busy": "2025-06-01T14:48:55.276688Z",
     "iopub.status.idle": "2025-06-01T14:48:55.320212Z",
     "shell.execute_reply": "2025-06-01T14:48:55.319401Z"
    },
    "papermill": {
     "duration": 0.052215,
     "end_time": "2025-06-01T14:48:55.321699",
     "exception": false,
     "start_time": "2025-06-01T14:48:55.269484",
     "status": "completed"
    },
    "tags": []
   },
   "outputs": [
    {
     "data": {
      "text/html": [
       "<div>\n",
       "<style scoped>\n",
       "    .dataframe tbody tr th:only-of-type {\n",
       "        vertical-align: middle;\n",
       "    }\n",
       "\n",
       "    .dataframe tbody tr th {\n",
       "        vertical-align: top;\n",
       "    }\n",
       "\n",
       "    .dataframe thead th {\n",
       "        text-align: right;\n",
       "    }\n",
       "</style>\n",
       "<table border=\"1\" class=\"dataframe\">\n",
       "  <thead>\n",
       "    <tr style=\"text-align: right;\">\n",
       "      <th></th>\n",
       "      <th>num_txs_as_sender</th>\n",
       "      <th>num_txs_as receiver</th>\n",
       "      <th>first_block_appeared_in</th>\n",
       "      <th>last_block_appeared_in</th>\n",
       "      <th>lifetime_in_blocks</th>\n",
       "      <th>total_txs</th>\n",
       "      <th>first_sent_block</th>\n",
       "      <th>first_received_block</th>\n",
       "      <th>num_timesteps_appeared_in</th>\n",
       "      <th>btc_transacted_total</th>\n",
       "      <th>...</th>\n",
       "      <th>blocks_btwn_output_txs_min</th>\n",
       "      <th>blocks_btwn_output_txs_max</th>\n",
       "      <th>blocks_btwn_output_txs_mean</th>\n",
       "      <th>blocks_btwn_output_txs_median</th>\n",
       "      <th>num_addr_transacted_multiple</th>\n",
       "      <th>transacted_w_address_total</th>\n",
       "      <th>transacted_w_address_min</th>\n",
       "      <th>transacted_w_address_max</th>\n",
       "      <th>transacted_w_address_mean</th>\n",
       "      <th>transacted_w_address_median</th>\n",
       "    </tr>\n",
       "  </thead>\n",
       "  <tbody>\n",
       "    <tr>\n",
       "      <th>0</th>\n",
       "      <td>0.000688</td>\n",
       "      <td>0.001862</td>\n",
       "      <td>0.729176</td>\n",
       "      <td>0.729186</td>\n",
       "      <td>0.00001</td>\n",
       "      <td>0.00068</td>\n",
       "      <td>0.946292</td>\n",
       "      <td>0.946290</td>\n",
       "      <td>0.0</td>\n",
       "      <td>1.432165e-06</td>\n",
       "      <td>...</td>\n",
       "      <td>0.0</td>\n",
       "      <td>0.0</td>\n",
       "      <td>0.0</td>\n",
       "      <td>0.0</td>\n",
       "      <td>0.0</td>\n",
       "      <td>0.000159</td>\n",
       "      <td>0.0</td>\n",
       "      <td>0.0</td>\n",
       "      <td>0.0</td>\n",
       "      <td>0.0</td>\n",
       "    </tr>\n",
       "    <tr>\n",
       "      <th>1</th>\n",
       "      <td>0.000688</td>\n",
       "      <td>0.001862</td>\n",
       "      <td>0.479246</td>\n",
       "      <td>0.479256</td>\n",
       "      <td>0.00001</td>\n",
       "      <td>0.00068</td>\n",
       "      <td>0.896726</td>\n",
       "      <td>0.896724</td>\n",
       "      <td>0.0</td>\n",
       "      <td>4.938098e-07</td>\n",
       "      <td>...</td>\n",
       "      <td>0.0</td>\n",
       "      <td>0.0</td>\n",
       "      <td>0.0</td>\n",
       "      <td>0.0</td>\n",
       "      <td>0.0</td>\n",
       "      <td>0.000026</td>\n",
       "      <td>0.0</td>\n",
       "      <td>0.0</td>\n",
       "      <td>0.0</td>\n",
       "      <td>0.0</td>\n",
       "    </tr>\n",
       "    <tr>\n",
       "      <th>2</th>\n",
       "      <td>0.000688</td>\n",
       "      <td>0.000000</td>\n",
       "      <td>0.083338</td>\n",
       "      <td>0.083338</td>\n",
       "      <td>0.00000</td>\n",
       "      <td>0.00000</td>\n",
       "      <td>0.818208</td>\n",
       "      <td>0.000000</td>\n",
       "      <td>0.0</td>\n",
       "      <td>8.248422e-07</td>\n",
       "      <td>...</td>\n",
       "      <td>0.0</td>\n",
       "      <td>0.0</td>\n",
       "      <td>0.0</td>\n",
       "      <td>0.0</td>\n",
       "      <td>0.0</td>\n",
       "      <td>0.000000</td>\n",
       "      <td>0.0</td>\n",
       "      <td>0.0</td>\n",
       "      <td>0.0</td>\n",
       "      <td>0.0</td>\n",
       "    </tr>\n",
       "    <tr>\n",
       "      <th>3</th>\n",
       "      <td>0.000688</td>\n",
       "      <td>0.001862</td>\n",
       "      <td>0.000114</td>\n",
       "      <td>0.000124</td>\n",
       "      <td>0.00001</td>\n",
       "      <td>0.00068</td>\n",
       "      <td>0.801705</td>\n",
       "      <td>0.801703</td>\n",
       "      <td>0.0</td>\n",
       "      <td>7.642479e-07</td>\n",
       "      <td>...</td>\n",
       "      <td>0.0</td>\n",
       "      <td>0.0</td>\n",
       "      <td>0.0</td>\n",
       "      <td>0.0</td>\n",
       "      <td>0.0</td>\n",
       "      <td>0.000106</td>\n",
       "      <td>0.0</td>\n",
       "      <td>0.0</td>\n",
       "      <td>0.0</td>\n",
       "      <td>0.0</td>\n",
       "    </tr>\n",
       "    <tr>\n",
       "      <th>4</th>\n",
       "      <td>0.000688</td>\n",
       "      <td>0.000000</td>\n",
       "      <td>0.645828</td>\n",
       "      <td>0.645828</td>\n",
       "      <td>0.00000</td>\n",
       "      <td>0.00000</td>\n",
       "      <td>0.929761</td>\n",
       "      <td>0.000000</td>\n",
       "      <td>0.0</td>\n",
       "      <td>1.658151e-07</td>\n",
       "      <td>...</td>\n",
       "      <td>0.0</td>\n",
       "      <td>0.0</td>\n",
       "      <td>0.0</td>\n",
       "      <td>0.0</td>\n",
       "      <td>0.0</td>\n",
       "      <td>0.000026</td>\n",
       "      <td>0.0</td>\n",
       "      <td>0.0</td>\n",
       "      <td>0.0</td>\n",
       "      <td>0.0</td>\n",
       "    </tr>\n",
       "    <tr>\n",
       "      <th>...</th>\n",
       "      <td>...</td>\n",
       "      <td>...</td>\n",
       "      <td>...</td>\n",
       "      <td>...</td>\n",
       "      <td>...</td>\n",
       "      <td>...</td>\n",
       "      <td>...</td>\n",
       "      <td>...</td>\n",
       "      <td>...</td>\n",
       "      <td>...</td>\n",
       "      <td>...</td>\n",
       "      <td>...</td>\n",
       "      <td>...</td>\n",
       "      <td>...</td>\n",
       "      <td>...</td>\n",
       "      <td>...</td>\n",
       "      <td>...</td>\n",
       "      <td>...</td>\n",
       "      <td>...</td>\n",
       "      <td>...</td>\n",
       "      <td>...</td>\n",
       "    </tr>\n",
       "    <tr>\n",
       "      <th>79602</th>\n",
       "      <td>0.000000</td>\n",
       "      <td>0.001862</td>\n",
       "      <td>0.208360</td>\n",
       "      <td>0.208360</td>\n",
       "      <td>0.00000</td>\n",
       "      <td>0.00000</td>\n",
       "      <td>0.000000</td>\n",
       "      <td>0.843002</td>\n",
       "      <td>0.0</td>\n",
       "      <td>4.866461e-09</td>\n",
       "      <td>...</td>\n",
       "      <td>0.0</td>\n",
       "      <td>0.0</td>\n",
       "      <td>0.0</td>\n",
       "      <td>0.0</td>\n",
       "      <td>0.0</td>\n",
       "      <td>0.000079</td>\n",
       "      <td>0.0</td>\n",
       "      <td>0.0</td>\n",
       "      <td>0.0</td>\n",
       "      <td>0.0</td>\n",
       "    </tr>\n",
       "    <tr>\n",
       "      <th>79603</th>\n",
       "      <td>0.000000</td>\n",
       "      <td>0.001862</td>\n",
       "      <td>0.458331</td>\n",
       "      <td>0.458331</td>\n",
       "      <td>0.00000</td>\n",
       "      <td>0.00000</td>\n",
       "      <td>0.000000</td>\n",
       "      <td>0.892576</td>\n",
       "      <td>0.0</td>\n",
       "      <td>1.061239e-08</td>\n",
       "      <td>...</td>\n",
       "      <td>0.0</td>\n",
       "      <td>0.0</td>\n",
       "      <td>0.0</td>\n",
       "      <td>0.0</td>\n",
       "      <td>0.0</td>\n",
       "      <td>0.000106</td>\n",
       "      <td>0.0</td>\n",
       "      <td>0.0</td>\n",
       "      <td>0.0</td>\n",
       "      <td>0.0</td>\n",
       "    </tr>\n",
       "    <tr>\n",
       "      <th>79604</th>\n",
       "      <td>0.000000</td>\n",
       "      <td>0.001862</td>\n",
       "      <td>0.312508</td>\n",
       "      <td>0.312508</td>\n",
       "      <td>0.00000</td>\n",
       "      <td>0.00000</td>\n",
       "      <td>0.000000</td>\n",
       "      <td>0.863657</td>\n",
       "      <td>0.0</td>\n",
       "      <td>1.599666e-07</td>\n",
       "      <td>...</td>\n",
       "      <td>0.0</td>\n",
       "      <td>0.0</td>\n",
       "      <td>0.0</td>\n",
       "      <td>0.0</td>\n",
       "      <td>0.0</td>\n",
       "      <td>0.000211</td>\n",
       "      <td>0.0</td>\n",
       "      <td>0.0</td>\n",
       "      <td>0.0</td>\n",
       "      <td>0.0</td>\n",
       "    </tr>\n",
       "    <tr>\n",
       "      <th>79605</th>\n",
       "      <td>0.000000</td>\n",
       "      <td>0.001862</td>\n",
       "      <td>0.479173</td>\n",
       "      <td>0.479173</td>\n",
       "      <td>0.00000</td>\n",
       "      <td>0.00000</td>\n",
       "      <td>0.000000</td>\n",
       "      <td>0.896710</td>\n",
       "      <td>0.0</td>\n",
       "      <td>1.108779e-06</td>\n",
       "      <td>...</td>\n",
       "      <td>0.0</td>\n",
       "      <td>0.0</td>\n",
       "      <td>0.0</td>\n",
       "      <td>0.0</td>\n",
       "      <td>0.0</td>\n",
       "      <td>0.000264</td>\n",
       "      <td>0.0</td>\n",
       "      <td>0.0</td>\n",
       "      <td>0.0</td>\n",
       "      <td>0.0</td>\n",
       "    </tr>\n",
       "    <tr>\n",
       "      <th>79606</th>\n",
       "      <td>0.000000</td>\n",
       "      <td>0.001862</td>\n",
       "      <td>0.645797</td>\n",
       "      <td>0.645797</td>\n",
       "      <td>0.00000</td>\n",
       "      <td>0.00000</td>\n",
       "      <td>0.000000</td>\n",
       "      <td>0.929755</td>\n",
       "      <td>0.0</td>\n",
       "      <td>7.556681e-08</td>\n",
       "      <td>...</td>\n",
       "      <td>0.0</td>\n",
       "      <td>0.0</td>\n",
       "      <td>0.0</td>\n",
       "      <td>0.0</td>\n",
       "      <td>0.0</td>\n",
       "      <td>0.000079</td>\n",
       "      <td>0.0</td>\n",
       "      <td>0.0</td>\n",
       "      <td>0.0</td>\n",
       "      <td>0.0</td>\n",
       "    </tr>\n",
       "  </tbody>\n",
       "</table>\n",
       "<p>79607 rows × 55 columns</p>\n",
       "</div>"
      ],
      "text/plain": [
       "       num_txs_as_sender  num_txs_as receiver  first_block_appeared_in  \\\n",
       "0               0.000688             0.001862                 0.729176   \n",
       "1               0.000688             0.001862                 0.479246   \n",
       "2               0.000688             0.000000                 0.083338   \n",
       "3               0.000688             0.001862                 0.000114   \n",
       "4               0.000688             0.000000                 0.645828   \n",
       "...                  ...                  ...                      ...   \n",
       "79602           0.000000             0.001862                 0.208360   \n",
       "79603           0.000000             0.001862                 0.458331   \n",
       "79604           0.000000             0.001862                 0.312508   \n",
       "79605           0.000000             0.001862                 0.479173   \n",
       "79606           0.000000             0.001862                 0.645797   \n",
       "\n",
       "       last_block_appeared_in  lifetime_in_blocks  total_txs  \\\n",
       "0                    0.729186             0.00001    0.00068   \n",
       "1                    0.479256             0.00001    0.00068   \n",
       "2                    0.083338             0.00000    0.00000   \n",
       "3                    0.000124             0.00001    0.00068   \n",
       "4                    0.645828             0.00000    0.00000   \n",
       "...                       ...                 ...        ...   \n",
       "79602                0.208360             0.00000    0.00000   \n",
       "79603                0.458331             0.00000    0.00000   \n",
       "79604                0.312508             0.00000    0.00000   \n",
       "79605                0.479173             0.00000    0.00000   \n",
       "79606                0.645797             0.00000    0.00000   \n",
       "\n",
       "       first_sent_block  first_received_block  num_timesteps_appeared_in  \\\n",
       "0              0.946292              0.946290                        0.0   \n",
       "1              0.896726              0.896724                        0.0   \n",
       "2              0.818208              0.000000                        0.0   \n",
       "3              0.801705              0.801703                        0.0   \n",
       "4              0.929761              0.000000                        0.0   \n",
       "...                 ...                   ...                        ...   \n",
       "79602          0.000000              0.843002                        0.0   \n",
       "79603          0.000000              0.892576                        0.0   \n",
       "79604          0.000000              0.863657                        0.0   \n",
       "79605          0.000000              0.896710                        0.0   \n",
       "79606          0.000000              0.929755                        0.0   \n",
       "\n",
       "       btc_transacted_total  ...  blocks_btwn_output_txs_min  \\\n",
       "0              1.432165e-06  ...                         0.0   \n",
       "1              4.938098e-07  ...                         0.0   \n",
       "2              8.248422e-07  ...                         0.0   \n",
       "3              7.642479e-07  ...                         0.0   \n",
       "4              1.658151e-07  ...                         0.0   \n",
       "...                     ...  ...                         ...   \n",
       "79602          4.866461e-09  ...                         0.0   \n",
       "79603          1.061239e-08  ...                         0.0   \n",
       "79604          1.599666e-07  ...                         0.0   \n",
       "79605          1.108779e-06  ...                         0.0   \n",
       "79606          7.556681e-08  ...                         0.0   \n",
       "\n",
       "       blocks_btwn_output_txs_max  blocks_btwn_output_txs_mean  \\\n",
       "0                             0.0                          0.0   \n",
       "1                             0.0                          0.0   \n",
       "2                             0.0                          0.0   \n",
       "3                             0.0                          0.0   \n",
       "4                             0.0                          0.0   \n",
       "...                           ...                          ...   \n",
       "79602                         0.0                          0.0   \n",
       "79603                         0.0                          0.0   \n",
       "79604                         0.0                          0.0   \n",
       "79605                         0.0                          0.0   \n",
       "79606                         0.0                          0.0   \n",
       "\n",
       "       blocks_btwn_output_txs_median  num_addr_transacted_multiple  \\\n",
       "0                                0.0                           0.0   \n",
       "1                                0.0                           0.0   \n",
       "2                                0.0                           0.0   \n",
       "3                                0.0                           0.0   \n",
       "4                                0.0                           0.0   \n",
       "...                              ...                           ...   \n",
       "79602                            0.0                           0.0   \n",
       "79603                            0.0                           0.0   \n",
       "79604                            0.0                           0.0   \n",
       "79605                            0.0                           0.0   \n",
       "79606                            0.0                           0.0   \n",
       "\n",
       "       transacted_w_address_total  transacted_w_address_min  \\\n",
       "0                        0.000159                       0.0   \n",
       "1                        0.000026                       0.0   \n",
       "2                        0.000000                       0.0   \n",
       "3                        0.000106                       0.0   \n",
       "4                        0.000026                       0.0   \n",
       "...                           ...                       ...   \n",
       "79602                    0.000079                       0.0   \n",
       "79603                    0.000106                       0.0   \n",
       "79604                    0.000211                       0.0   \n",
       "79605                    0.000264                       0.0   \n",
       "79606                    0.000079                       0.0   \n",
       "\n",
       "       transacted_w_address_max  transacted_w_address_mean  \\\n",
       "0                           0.0                        0.0   \n",
       "1                           0.0                        0.0   \n",
       "2                           0.0                        0.0   \n",
       "3                           0.0                        0.0   \n",
       "4                           0.0                        0.0   \n",
       "...                         ...                        ...   \n",
       "79602                       0.0                        0.0   \n",
       "79603                       0.0                        0.0   \n",
       "79604                       0.0                        0.0   \n",
       "79605                       0.0                        0.0   \n",
       "79606                       0.0                        0.0   \n",
       "\n",
       "       transacted_w_address_median  \n",
       "0                              0.0  \n",
       "1                              0.0  \n",
       "2                              0.0  \n",
       "3                              0.0  \n",
       "4                              0.0  \n",
       "...                            ...  \n",
       "79602                          0.0  \n",
       "79603                          0.0  \n",
       "79604                          0.0  \n",
       "79605                          0.0  \n",
       "79606                          0.0  \n",
       "\n",
       "[79607 rows x 55 columns]"
      ]
     },
     "execution_count": 7,
     "metadata": {},
     "output_type": "execute_result"
    }
   ],
   "source": [
    "X_test_scaled"
   ]
  },
  {
   "cell_type": "markdown",
   "id": "d25d3ccd",
   "metadata": {
    "papermill": {
     "duration": 0.006248,
     "end_time": "2025-06-01T14:48:55.334729",
     "exception": false,
     "start_time": "2025-06-01T14:48:55.328481",
     "status": "completed"
    },
    "tags": []
   },
   "source": [
    "## Train model again"
   ]
  },
  {
   "cell_type": "code",
   "execution_count": 8,
   "id": "d692a5eb",
   "metadata": {
    "execution": {
     "iopub.execute_input": "2025-06-01T14:48:55.348832Z",
     "iopub.status.busy": "2025-06-01T14:48:55.348510Z",
     "iopub.status.idle": "2025-06-01T14:49:00.369042Z",
     "shell.execute_reply": "2025-06-01T14:49:00.368101Z"
    },
    "papermill": {
     "duration": 5.029604,
     "end_time": "2025-06-01T14:49:00.370716",
     "exception": false,
     "start_time": "2025-06-01T14:48:55.341112",
     "status": "completed"
    },
    "tags": []
   },
   "outputs": [],
   "source": [
    "from sklearn.linear_model import LogisticRegression\n",
    "from sklearn.ensemble import RandomForestClassifier\n",
    "from xgboost import XGBClassifier\n",
    "from sklearn.neural_network import MLPClassifier\n",
    "from sklearn.metrics import precision_recall_fscore_support, f1_score\n",
    "from lightgbm import LGBMClassifier"
   ]
  },
  {
   "cell_type": "code",
   "execution_count": 9,
   "id": "5ab6b9c1",
   "metadata": {
    "execution": {
     "iopub.execute_input": "2025-06-01T14:49:00.387239Z",
     "iopub.status.busy": "2025-06-01T14:49:00.386462Z",
     "iopub.status.idle": "2025-06-01T14:49:00.392050Z",
     "shell.execute_reply": "2025-06-01T14:49:00.391335Z"
    },
    "papermill": {
     "duration": 0.015479,
     "end_time": "2025-06-01T14:49:00.393421",
     "exception": false,
     "start_time": "2025-06-01T14:49:00.377942",
     "status": "completed"
    },
    "tags": []
   },
   "outputs": [],
   "source": [
    "def evaluate_model(model_name, y_true, y_pred):\n",
    "    prec, rec, f1, _ = precision_recall_fscore_support(y_true, y_pred)\n",
    "    micro_f1 = f1_score(y_true, y_pred, average='micro')\n",
    "    print(f\"\\n 📌 {model_name}\")\n",
    "    print(\"Precision: %.3f\" % prec[1])\n",
    "    print(\"Recall: %.3f\" % rec[1])\n",
    "    print(\"F1 Score: %.3f\" % f1[1])\n",
    "    print(\"Micro-Average F1: %.3f\" % micro_f1)"
   ]
  },
  {
   "cell_type": "code",
   "execution_count": 10,
   "id": "2fb6cab6",
   "metadata": {
    "execution": {
     "iopub.execute_input": "2025-06-01T14:49:00.408288Z",
     "iopub.status.busy": "2025-06-01T14:49:00.407996Z",
     "iopub.status.idle": "2025-06-01T14:50:01.473834Z",
     "shell.execute_reply": "2025-06-01T14:50:01.472847Z"
    },
    "papermill": {
     "duration": 61.080703,
     "end_time": "2025-06-01T14:50:01.481185",
     "exception": false,
     "start_time": "2025-06-01T14:49:00.400482",
     "status": "completed"
    },
    "tags": []
   },
   "outputs": [
    {
     "name": "stdout",
     "output_type": "stream",
     "text": [
      "\n",
      " 📌 Random Forest\n",
      "Precision: 0.921\n",
      "Recall: 0.790\n",
      "F1 Score: 0.850\n",
      "Micro-Average F1: 0.990\n"
     ]
    }
   ],
   "source": [
    "rf = RandomForestClassifier(n_estimators=100, random_state=42)\n",
    "rf.fit(X_train_scaled, y_train)\n",
    "y_pred_rf = rf.predict(X_test_scaled)\n",
    "evaluate_model(\"Random Forest\", y_test, y_pred_rf)"
   ]
  },
  {
   "cell_type": "code",
   "execution_count": 11,
   "id": "ced8ca05",
   "metadata": {
    "execution": {
     "iopub.execute_input": "2025-06-01T14:50:01.495802Z",
     "iopub.status.busy": "2025-06-01T14:50:01.495461Z",
     "iopub.status.idle": "2025-06-01T14:50:04.534889Z",
     "shell.execute_reply": "2025-06-01T14:50:04.533848Z"
    },
    "papermill": {
     "duration": 3.048549,
     "end_time": "2025-06-01T14:50:04.536385",
     "exception": false,
     "start_time": "2025-06-01T14:50:01.487836",
     "status": "completed"
    },
    "tags": []
   },
   "outputs": [
    {
     "name": "stdout",
     "output_type": "stream",
     "text": [
      "\n",
      " 📌 XGBoost\n",
      "Precision: 0.888\n",
      "Recall: 0.809\n",
      "F1 Score: 0.846\n",
      "Micro-Average F1: 0.989\n"
     ]
    }
   ],
   "source": [
    "xgb = XGBClassifier(use_label_encoder=False, eval_metric='logloss', random_state=42)\n",
    "xgb.fit(X_train_scaled, y_train)\n",
    "y_pred_xgb = xgb.predict(X_test_scaled)\n",
    "evaluate_model(\"XGBoost\", y_test, y_pred_xgb)"
   ]
  },
  {
   "cell_type": "markdown",
   "id": "55ad3ed6",
   "metadata": {
    "papermill": {
     "duration": 0.006452,
     "end_time": "2025-06-01T14:50:04.549555",
     "exception": false,
     "start_time": "2025-06-01T14:50:04.543103",
     "status": "completed"
    },
    "tags": []
   },
   "source": [
    "# Use best model for feature selection"
   ]
  },
  {
   "cell_type": "markdown",
   "id": "8ae7ebb8",
   "metadata": {
    "papermill": {
     "duration": 0.006429,
     "end_time": "2025-06-01T14:50:04.562498",
     "exception": false,
     "start_time": "2025-06-01T14:50:04.556069",
     "status": "completed"
    },
    "tags": []
   },
   "source": [
    "## Feature importance"
   ]
  },
  {
   "cell_type": "code",
   "execution_count": 12,
   "id": "1ee3f2a1",
   "metadata": {
    "execution": {
     "iopub.execute_input": "2025-06-01T14:50:04.577356Z",
     "iopub.status.busy": "2025-06-01T14:50:04.577006Z",
     "iopub.status.idle": "2025-06-01T14:50:04.600439Z",
     "shell.execute_reply": "2025-06-01T14:50:04.599550Z"
    },
    "papermill": {
     "duration": 0.03303,
     "end_time": "2025-06-01T14:50:04.602193",
     "exception": false,
     "start_time": "2025-06-01T14:50:04.569163",
     "status": "completed"
    },
    "tags": []
   },
   "outputs": [],
   "source": [
    "#  Calculate Feature Importance\n",
    "rf_importances = rf.feature_importances_\n",
    "xgb_importances = xgb.feature_importances_\n",
    "\n",
    "imp_df = pd.DataFrame({\n",
    "    'Feature': X_train_scaled.columns,\n",
    "    'RF_Imp': rf_importances,\n",
    "    'XGB_Imp': xgb_importances\n",
    "})\n",
    "\n",
    "imp_df['Imp'] = (imp_df['RF_Imp'] + imp_df['XGB_Imp']) / 2\n",
    "imp_df['Imp_max'] = imp_df[['RF_Imp', 'XGB_Imp']].max(axis=1)\n",
    "imp_df_sorted = imp_df.sort_values(by=\"Imp\", ascending=False)\n",
    "imp_df_max_sorted = imp_df.sort_values(by=\"Imp_max\", ascending=False)"
   ]
  },
  {
   "cell_type": "markdown",
   "id": "e29822f0",
   "metadata": {
    "papermill": {
     "duration": 0.006858,
     "end_time": "2025-06-01T14:50:04.616150",
     "exception": false,
     "start_time": "2025-06-01T14:50:04.609292",
     "status": "completed"
    },
    "tags": []
   },
   "source": [
    "## PFI (Permutation feature importance)"
   ]
  },
  {
   "cell_type": "code",
   "execution_count": 13,
   "id": "85b8fb85",
   "metadata": {
    "execution": {
     "iopub.execute_input": "2025-06-01T14:50:04.631363Z",
     "iopub.status.busy": "2025-06-01T14:50:04.631008Z",
     "iopub.status.idle": "2025-06-01T14:56:14.558986Z",
     "shell.execute_reply": "2025-06-01T14:56:14.558129Z"
    },
    "papermill": {
     "duration": 369.937526,
     "end_time": "2025-06-01T14:56:14.560824",
     "exception": false,
     "start_time": "2025-06-01T14:50:04.623298",
     "status": "completed"
    },
    "tags": []
   },
   "outputs": [
    {
     "name": "stderr",
     "output_type": "stream",
     "text": [
      "2025-06-01 14:50:07.384409: E external/local_xla/xla/stream_executor/cuda/cuda_fft.cc:477] Unable to register cuFFT factory: Attempting to register factory for plugin cuFFT when one has already been registered\n",
      "WARNING: All log messages before absl::InitializeLog() is called are written to STDERR\n",
      "E0000 00:00:1748789407.607963      13 cuda_dnn.cc:8310] Unable to register cuDNN factory: Attempting to register factory for plugin cuDNN when one has already been registered\n",
      "E0000 00:00:1748789407.677958      13 cuda_blas.cc:1418] Unable to register cuBLAS factory: Attempting to register factory for plugin cuBLAS when one has already been registered\n"
     ]
    }
   ],
   "source": [
    "import eli5\n",
    "from eli5.sklearn import PermutationImportance\n",
    "from sklearn.base import clone\n",
    "# PFI Calculations\n",
    "perm_rf = PermutationImportance(rf, random_state=42).fit(X_test_scaled, y_test)\n",
    "pfi_rf = eli5.explain_weights_df(perm_rf, feature_names=X_test_scaled.columns.tolist())\n",
    "pfi_rf = pfi_rf[['feature', 'weight']].rename(columns={'weight': 'weight_rf'})\n",
    "\n",
    "perm_xgb = PermutationImportance(xgb, random_state=42).fit(X_test_scaled, y_test)\n",
    "pfi_xgb = eli5.explain_weights_df(perm_xgb, feature_names=X_test_scaled.columns.tolist())\n",
    "pfi_xgb = pfi_xgb[['feature', 'weight']].rename(columns={'weight': 'weight_xgb'})\n",
    "\n",
    "pfi_merged = pd.merge(pfi_rf, pfi_xgb, on='feature', how='outer') #outer merge here as it can be empty for at least 1 model\n",
    "pfi_merged['weight_mean'] = pfi_merged[['weight_rf', 'weight_xgb']].mean(axis=1) #Create weight mean, but there could be NA's\n",
    "pfi_merged['weight_max'] = pfi_merged[['weight_rf', 'weight_xgb']].max(axis=1)"
   ]
  },
  {
   "cell_type": "markdown",
   "id": "13df9940",
   "metadata": {
    "papermill": {
     "duration": 0.006738,
     "end_time": "2025-06-01T14:56:14.574884",
     "exception": false,
     "start_time": "2025-06-01T14:56:14.568146",
     "status": "completed"
    },
    "tags": []
   },
   "source": [
    "## DCFI (Drop Column Feature Importance)"
   ]
  },
  {
   "cell_type": "code",
   "execution_count": 14,
   "id": "08d8fb96",
   "metadata": {
    "execution": {
     "iopub.execute_input": "2025-06-01T14:56:14.590199Z",
     "iopub.status.busy": "2025-06-01T14:56:14.589137Z",
     "iopub.status.idle": "2025-06-01T15:57:30.510490Z",
     "shell.execute_reply": "2025-06-01T15:57:30.509214Z"
    },
    "papermill": {
     "duration": 3675.931088,
     "end_time": "2025-06-01T15:57:30.512525",
     "exception": false,
     "start_time": "2025-06-01T14:56:14.581437",
     "status": "completed"
    },
    "tags": []
   },
   "outputs": [],
   "source": [
    "import numpy as np\n",
    "# DCFI Calculation\n",
    "def compute_dcfi(model, X_train, y_train, random_state=42):\n",
    "    \"\"\"\n",
    "    Computes Drop Column Feature Importance (DCFI) for a given model.\n",
    "    \"\"\"\n",
    "    model_clone = clone(model)\n",
    "    if hasattr(model_clone, 'random_state'):\n",
    "        model_clone.random_state = random_state\n",
    "\n",
    "    X_train_array = X_train.values if isinstance(X_train, pd.DataFrame) else X_train\n",
    "    y_train_array = y_train.values if isinstance(y_train, pd.Series) else y_train\n",
    "\n",
    "    model_clone.fit(X_train_array, y_train_array)\n",
    "    benchmark_score = model_clone.score(X_train_array, y_train_array)\n",
    "\n",
    "    importances = []\n",
    "    features = X_train.columns.tolist() if isinstance(X_train, pd.DataFrame) else [f'Feature_{i}' for i in range(X_train_array.shape[1])]\n",
    "\n",
    "    for i, col in enumerate(features):\n",
    "        model_clone = clone(model)\n",
    "        if hasattr(model_clone, 'random_state'):\n",
    "            model_clone.random_state = random_state\n",
    "\n",
    "        X_subset_array = np.delete(X_train_array, i, axis=1)\n",
    "\n",
    "        model_clone.fit(X_subset_array, y_train_array)\n",
    "        drop_col_score = model_clone.score(X_subset_array, y_train_array)\n",
    "        importances.append(benchmark_score - drop_col_score)\n",
    "\n",
    "    dcfi_df = pd.DataFrame({\n",
    "        'Feature': features,\n",
    "        'Imp': importances\n",
    "    }).sort_values('Imp', ascending=False).reset_index(drop=True)\n",
    "\n",
    "    return dcfi_df\n",
    "\n",
    "dcfi_rf = compute_dcfi(rf, X_train_scaled, y_train)\n",
    "dcfi_xgb = compute_dcfi(xgb, X_train_scaled, y_train)\n",
    "\n",
    "dcfi_df = pd.DataFrame({\n",
    "    'Feature': X_train_scaled.columns,\n",
    "    'RF_Imp': dcfi_rf['Imp'].values,\n",
    "    'XGB_Imp': dcfi_xgb['Imp'].values,\n",
    "})\n",
    "\n",
    "dcfi_df['Imp_mean'] = dcfi_df[['RF_Imp', 'XGB_Imp']].mean(axis=1)\n",
    "dcfi_df['Imp_max'] = dcfi_df[['RF_Imp', 'XGB_Imp']].max(axis=1)\n",
    "\n",
    "dcfi_df_sorted_mean = dcfi_df.sort_values('Imp_mean', ascending=False).reset_index(drop=True)\n",
    "dcfi_df_sorted_max = dcfi_df.sort_values('Imp_max', ascending=False).reset_index(drop=True)"
   ]
  },
  {
   "cell_type": "code",
   "execution_count": 15,
   "id": "927e986f",
   "metadata": {
    "execution": {
     "iopub.execute_input": "2025-06-01T15:57:30.532005Z",
     "iopub.status.busy": "2025-06-01T15:57:30.531705Z",
     "iopub.status.idle": "2025-06-01T15:57:30.545943Z",
     "shell.execute_reply": "2025-06-01T15:57:30.545085Z"
    },
    "papermill": {
     "duration": 0.024334,
     "end_time": "2025-06-01T15:57:30.547444",
     "exception": false,
     "start_time": "2025-06-01T15:57:30.523110",
     "status": "completed"
    },
    "tags": []
   },
   "outputs": [],
   "source": [
    "#  Combine Results and Select Features\n",
    "\n",
    "# 1. FI\n",
    "fi_mean_df = imp_df_sorted[['Feature', 'Imp']].rename(columns={'Imp': 'FI_Mean'})\n",
    "fi_max_df = imp_df_max_sorted[['Feature', 'Imp_max']].rename(columns={'Imp_max': 'FI_Max'})\n",
    "\n",
    "# 2. PFI\n",
    "pfi_mean_df = pfi_merged[['feature', 'weight_mean']].rename(columns={'feature': 'Feature', 'weight_mean': 'PFI_Mean'})\n",
    "pfi_max_df = pfi_merged[['feature', 'weight_max']].rename(columns={'feature': 'Feature', 'weight_max': 'PFI_Max'})\n",
    "\n",
    "# 3. DCFI\n",
    "dcfi_mean_df = dcfi_df[['Feature', 'Imp_mean']].rename(columns={'Feature': 'Feature', 'Imp_mean': 'DCFI_Mean'})\n",
    "dcfi_max_df = dcfi_df[['Feature', 'Imp_max']].rename(columns={'Feature': 'Feature', 'Imp_max': 'DCFI_Max'})"
   ]
  },
  {
   "cell_type": "code",
   "execution_count": 16,
   "id": "f906f337",
   "metadata": {
    "execution": {
     "iopub.execute_input": "2025-06-01T15:57:30.562553Z",
     "iopub.status.busy": "2025-06-01T15:57:30.561903Z",
     "iopub.status.idle": "2025-06-01T15:57:30.603356Z",
     "shell.execute_reply": "2025-06-01T15:57:30.602372Z"
    },
    "papermill": {
     "duration": 0.050438,
     "end_time": "2025-06-01T15:57:30.604826",
     "exception": false,
     "start_time": "2025-06-01T15:57:30.554388",
     "status": "completed"
    },
    "tags": []
   },
   "outputs": [
    {
     "name": "stdout",
     "output_type": "stream",
     "text": [
      "\\nMerged Mean DataFrame:\n",
      "                      Feature   FI_Mean  PFI_Mean  DCFI_Mean\n",
      "0          lifetime_in_blocks  0.150680  0.002339   0.000275\n",
      "1  transacted_w_address_total  0.071813  0.008282  -0.000070\n",
      "2            first_sent_block  0.057071  0.004782   0.000256\n",
      "3   num_timesteps_appeared_in  0.047976  0.000038   0.000218\n",
      "4                    fees_min  0.038015  0.005545   0.000067\n",
      "\\nMerged Max DataFrame:\n",
      "                      Feature    FI_Max   PFI_Max  DCFI_Max\n",
      "0          lifetime_in_blocks  0.275653  0.004414  0.000549\n",
      "1   num_timesteps_appeared_in  0.089482  0.000063  0.000436\n",
      "2  transacted_w_address_total  0.088648  0.010999 -0.000011\n",
      "3            first_sent_block  0.061044  0.007806  0.000511\n",
      "4                    fees_max  0.054713  0.006876  0.000135\n",
      "top20_mean: ['lifetime_in_blocks', 'transacted_w_address_total', 'first_sent_block', 'fees_min', 'num_txs_as receiver', 'last_block_appeared_in', 'num_txs_as_sender', 'fees_max', 'first_block_appeared_in', 'fees_as_share_max', 'first_received_block', 'num_timesteps_appeared_in', 'fees_median', 'total_txs', 'btc_transacted_total', 'btc_sent_total', 'fees_total', 'fees_mean', 'btc_transacted_max', 'btc_transacted_median']\n",
      "top20_max: ['transacted_w_address_total', 'lifetime_in_blocks', 'num_txs_as_sender', 'num_txs_as receiver', 'fees_min', 'first_sent_block', 'fees_max', 'last_block_appeared_in', 'first_block_appeared_in', 'fees_as_share_max', 'num_timesteps_appeared_in', 'total_txs', 'first_received_block', 'btc_transacted_total', 'btc_transacted_max', 'btc_transacted_min', 'btc_transacted_mean', 'btc_transacted_median', 'btc_sent_total', 'fees_median']\n"
     ]
    }
   ],
   "source": [
    "# Merge toàn bộ\n",
    "merged = fi_mean_df.merge(pfi_mean_df, on='Feature',how='inner').merge(dcfi_mean_df, on='Feature',how='inner')\n",
    "merged_max = fi_max_df.merge(pfi_max_df, on='Feature',how='inner').merge(dcfi_max_df, on='Feature',how='inner')\n",
    "\n",
    "#Display Merged DataFrames\n",
    "print(\"\\\\nMerged Mean DataFrame:\")\n",
    "print(merged.head())\n",
    "\n",
    "print(\"\\\\nMerged Max DataFrame:\")\n",
    "print(merged_max.head())\n",
    "\n",
    "# Chuẩn hóa\n",
    "scaler = MinMaxScaler()\n",
    "merged[['FI_Mean', 'PFI_Mean', 'DCFI_Mean']] = scaler.fit_transform(merged[['FI_Mean', 'PFI_Mean', 'DCFI_Mean']])\n",
    "merged_max[['FI_Max', 'PFI_Max', 'DCFI_Max']] = scaler.fit_transform(merged_max[['FI_Max', 'PFI_Max', 'DCFI_Max']])\n",
    "\n",
    "# 10 Output top 20 selected features \n",
    "# Mean-based tổng hợp\n",
    "merged['Mean_Score'] = merged[['FI_Mean', 'PFI_Mean', 'DCFI_Mean']].mean(axis=1)\n",
    "merged_max['Max_Score'] = merged_max[['FI_Max', 'PFI_Max', 'DCFI_Max']].max(axis=1)\n",
    "# Top and bottom 20 theo trung bình\n",
    "top20_mean = merged.sort_values('Mean_Score', ascending=False).head(20)['Feature'].tolist()\n",
    "bottom20_mean = merged.sort_values('Mean_Score', ascending=True).head(20)['Feature'].tolist()\n",
    "\n",
    "# Top and bottom 20 theo max\n",
    "top20_max = merged_max.sort_values('Max_Score', ascending=False).head(20)['Feature'].tolist()\n",
    "bottom20_max = merged_max.sort_values('Max_Score', ascending=True).head(20)['Feature'].tolist()\n",
    "\n",
    "print(f\"top20_mean: {top20_mean}\")\n",
    "print(f\"top20_max: {top20_max}\")"
   ]
  },
  {
   "cell_type": "code",
   "execution_count": 17,
   "id": "8163cb99",
   "metadata": {
    "execution": {
     "iopub.execute_input": "2025-06-01T15:57:30.620118Z",
     "iopub.status.busy": "2025-06-01T15:57:30.619820Z",
     "iopub.status.idle": "2025-06-01T15:57:33.393389Z",
     "shell.execute_reply": "2025-06-01T15:57:33.392339Z"
    },
    "papermill": {
     "duration": 2.787935,
     "end_time": "2025-06-01T15:57:33.399897",
     "exception": false,
     "start_time": "2025-06-01T15:57:30.611962",
     "status": "completed"
    },
    "tags": []
   },
   "outputs": [
    {
     "data": {
      "image/png": "[encoded data removed]",
      "text/plain": [
       "<Figure size 2000x1500 with 4 Axes>"
      ]
     },
     "metadata": {},
     "output_type": "display_data"
    }
   ],
   "source": [
    "import matplotlib.pyplot as plt\n",
    "import seaborn as sns\n",
    "\n",
    "# Function to create a bar plot\n",
    "def plot_feature_importances(df, features, title, ax):\n",
    "    df_subset = df[df['Feature'].isin(features)].set_index('Feature')\n",
    "    sns.barplot(x=df_subset.index, y=df_subset[df_subset.columns[0]], ax=ax, palette=\"viridis\")\n",
    "    ax.set_title(title)\n",
    "    ax.set_ylabel(\"Importance Score\")\n",
    "    ax.tick_params(axis='x', rotation=90)\n",
    "\n",
    "# Create subplots\n",
    "fig, axes = plt.subplots(2, 2, figsize=(20, 15))\n",
    "\n",
    "# Plotting\n",
    "plot_feature_importances(merged, top20_mean, \"Top 20 Features (Mean)\", axes[0, 0])\n",
    "plot_feature_importances(merged, bottom20_mean, \"Bottom 20 Features (Mean)\", axes[0, 1])\n",
    "plot_feature_importances(merged_max, top20_max, \"Top 20 Features (Max)\", axes[1, 0])\n",
    "plot_feature_importances(merged_max, bottom20_max, \"Bottom 20 Features (Max)\", axes[1, 1])\n",
    "\n",
    "plt.tight_layout()\n",
    "plt.show()"
   ]
  },
  {
   "cell_type": "code",
   "execution_count": 18,
   "id": "7c1c6394",
   "metadata": {
    "execution": {
     "iopub.execute_input": "2025-06-01T15:57:33.428808Z",
     "iopub.status.busy": "2025-06-01T15:57:33.428049Z",
     "iopub.status.idle": "2025-06-01T15:57:33.598674Z",
     "shell.execute_reply": "2025-06-01T15:57:33.597752Z"
    },
    "papermill": {
     "duration": 0.186755,
     "end_time": "2025-06-01T15:57:33.600527",
     "exception": false,
     "start_time": "2025-06-01T15:57:33.413772",
     "status": "completed"
    },
    "tags": []
   },
   "outputs": [],
   "source": [
    "num_features = 49\n",
    "# 1. Calculate the top n, based on the original values and feature selection\n",
    "top29_mean = merged.sort_values('Mean_Score', ascending=False)['Feature'].head(num_features).tolist()\n",
    "top29_max = merged_max.sort_values('Max_Score', ascending=False)['Feature'].tolist()\n",
    "\n",
    "# 2. Select features using .copy()\n",
    "X_train_selected_mean = X_train_scaled[top29_mean].copy()\n",
    "X_test_selected_mean = X_test_scaled[top29_mean].copy()\n",
    "\n",
    "X_train_selected_max = X_train_scaled[top29_max].copy()\n",
    "X_test_selected_max = X_test_scaled[top29_max].copy()"
   ]
  },
  {
   "cell_type": "code",
   "execution_count": 19,
   "id": "91ec758d",
   "metadata": {
    "execution": {
     "iopub.execute_input": "2025-06-01T15:57:33.628943Z",
     "iopub.status.busy": "2025-06-01T15:57:33.628643Z",
     "iopub.status.idle": "2025-06-01T15:57:33.634393Z",
     "shell.execute_reply": "2025-06-01T15:57:33.633726Z"
    },
    "papermill": {
     "duration": 0.021337,
     "end_time": "2025-06-01T15:57:33.635674",
     "exception": false,
     "start_time": "2025-06-01T15:57:33.614337",
     "status": "completed"
    },
    "tags": []
   },
   "outputs": [
    {
     "data": {
      "text/plain": [
       "Index(['lifetime_in_blocks', 'transacted_w_address_total', 'first_sent_block',\n",
       "       'fees_min', 'num_txs_as receiver', 'last_block_appeared_in',\n",
       "       'num_txs_as_sender', 'fees_max', 'first_block_appeared_in',\n",
       "       'fees_as_share_max', 'first_received_block',\n",
       "       'num_timesteps_appeared_in', 'fees_median', 'total_txs',\n",
       "       'btc_transacted_total', 'btc_sent_total', 'fees_total', 'fees_mean',\n",
       "       'btc_transacted_max', 'btc_transacted_median', 'btc_transacted_mean',\n",
       "       'btc_transacted_min', 'btc_sent_min', 'blocks_btwn_txs_mean',\n",
       "       'fees_as_share_median', 'btc_sent_median', 'fees_as_share_min',\n",
       "       'btc_sent_mean', 'btc_received_median', 'fees_as_share_total',\n",
       "       'fees_as_share_mean', 'btc_sent_max', 'btc_received_mean',\n",
       "       'btc_received_total', 'btc_received_max', 'btc_received_min',\n",
       "       'blocks_btwn_txs_max', 'blocks_btwn_txs_min', 'blocks_btwn_txs_total',\n",
       "       'blocks_btwn_txs_median', 'blocks_btwn_output_txs_mean',\n",
       "       'blocks_btwn_input_txs_total', 'blocks_btwn_output_txs_min',\n",
       "       'blocks_btwn_output_txs_total', 'blocks_btwn_output_txs_max',\n",
       "       'blocks_btwn_input_txs_min', 'blocks_btwn_input_txs_max',\n",
       "       'blocks_btwn_input_txs_median', 'blocks_btwn_input_txs_mean'],\n",
       "      dtype='object')"
      ]
     },
     "execution_count": 19,
     "metadata": {},
     "output_type": "execute_result"
    }
   ],
   "source": [
    "X_train_selected_mean.columns"
   ]
  },
  {
   "cell_type": "markdown",
   "id": "8de90ff3",
   "metadata": {
    "papermill": {
     "duration": 0.013222,
     "end_time": "2025-06-01T15:57:33.662735",
     "exception": false,
     "start_time": "2025-06-01T15:57:33.649513",
     "status": "completed"
    },
    "tags": []
   },
   "source": [
    "# Retrain model"
   ]
  },
  {
   "cell_type": "markdown",
   "id": "7915d55d",
   "metadata": {
    "papermill": {
     "duration": 0.013425,
     "end_time": "2025-06-01T15:57:33.689589",
     "exception": false,
     "start_time": "2025-06-01T15:57:33.676164",
     "status": "completed"
    },
    "tags": []
   },
   "source": [
    "## Random forest"
   ]
  },
  {
   "cell_type": "code",
   "execution_count": 20,
   "id": "03a3679d",
   "metadata": {
    "execution": {
     "iopub.execute_input": "2025-06-01T15:57:33.718726Z",
     "iopub.status.busy": "2025-06-01T15:57:33.718415Z",
     "iopub.status.idle": "2025-06-01T15:57:33.728770Z",
     "shell.execute_reply": "2025-06-01T15:57:33.727926Z"
    },
    "papermill": {
     "duration": 0.026639,
     "end_time": "2025-06-01T15:57:33.730047",
     "exception": false,
     "start_time": "2025-06-01T15:57:33.703408",
     "status": "completed"
    },
    "tags": []
   },
   "outputs": [],
   "source": [
    "def tune_and_train(X_train, y_train, X_test, y_test, model_type='rf', n_trials=10):\n",
    "    def objective(trial):\n",
    "        if model_type == 'rf':\n",
    "            rf_params = {\n",
    "                'n_estimators': trial.suggest_int('n_estimators', 100, 300), # Có thể tăng giới hạn trên\n",
    "                'max_depth': trial.suggest_int('max_depth', 5, 20),     # Có thể tăng giới hạn trên\n",
    "                'min_samples_split': trial.suggest_int('min_samples_split', 2, 15),\n",
    "                'min_samples_leaf': trial.suggest_int('min_samples_leaf', 1, 10),\n",
    "                'class_weight': trial.suggest_categorical('class_weight', ['balanced', 'balanced_subsample', None]), # Thêm class_weight\n",
    "                'random_state': 42,\n",
    "                'n_jobs': -1\n",
    "            }\n",
    "            model = RandomForestClassifier(**rf_params)\n",
    "        elif model_type == 'xgb':\n",
    "            xgb_params = {\n",
    "                'n_estimators': trial.suggest_int('n_estimators', 100, 300),\n",
    "                'max_depth': trial.suggest_int('max_depth', 3, 10), # XGB thường dùng max_depth nhỏ hơn RF\n",
    "                'learning_rate': trial.suggest_float('learning_rate', 0.01, 0.2, log=True),\n",
    "                'subsample': trial.suggest_float('subsample', 0.6, 1.0),\n",
    "                'colsample_bytree': trial.suggest_float('colsample_bytree', 0.6, 1.0),\n",
    "                'gamma': trial.suggest_float('gamma', 0, 0.5),\n",
    "                'scale_pos_weight': trial.suggest_float('scale_pos_weight', 1, 10), # Cho dữ liệu mất cân bằng\n",
    "                'random_state': 42,\n",
    "                'use_label_encoder': False,\n",
    "                'eval_metric': 'logloss' # hoặc 'aucpr' nếu muốn tối ưu AUC của Precision-Recall curve\n",
    "            }\n",
    "            model = XGBClassifier(**xgb_params)\n",
    "        else:\n",
    "            raise ValueError(\"Invalid model_type. Choose 'rf' or 'xgb'.\")\n",
    "\n",
    "        model.fit(X_train, y_train)\n",
    "        y_pred = model.predict(X_test)\n",
    "        \n",
    "        # TỐI ƯU F1-SCORE CHO LỚP 1 (ILLICIT)\n",
    "        # pos_label=1 chỉ định rằng chúng ta quan tâm đến F1 của lớp dương (lớp 1)\n",
    "        # average='binary' là mặc định cho phân loại nhị phân và tính cho pos_label\n",
    "        f1 = f1_score(y_test, y_pred, pos_label=1, average='binary')\n",
    "        return f1 # Optuna sẽ cố gắng maximize giá trị này\n",
    "\n",
    "    study = optuna.create_study(direction='maximize') # Đảm bảo direction là 'maximize'\n",
    "    study.optimize(objective, n_trials=n_trials)\n",
    "\n",
    "    best_params = study.best_params\n",
    "    print(f\"Best parameters found for F1-score (pos_label=1): {best_params}\")\n",
    "\n",
    "    if model_type == 'rf':\n",
    "        best_model = RandomForestClassifier(**best_params, random_state=42, n_jobs = -1)\n",
    "    elif model_type == 'xgb':\n",
    "        # Chắc chắn thêm tree_method='gpu_hist' nếu bạn muốn dùng GPU khi huấn luyện lại\n",
    "        best_model = XGBClassifier(**best_params, random_state=42, use_label_encoder=False, eval_metric='logloss')\n",
    "\n",
    "    best_model.fit(X_train, y_train)\n",
    "    return best_model\n"
   ]
  },
  {
   "cell_type": "code",
   "execution_count": 21,
   "id": "7391aaee",
   "metadata": {
    "execution": {
     "iopub.execute_input": "2025-06-01T15:57:33.758256Z",
     "iopub.status.busy": "2025-06-01T15:57:33.757935Z",
     "iopub.status.idle": "2025-06-01T15:57:33.763752Z",
     "shell.execute_reply": "2025-06-01T15:57:33.762892Z"
    },
    "papermill": {
     "duration": 0.021424,
     "end_time": "2025-06-01T15:57:33.765021",
     "exception": false,
     "start_time": "2025-06-01T15:57:33.743597",
     "status": "completed"
    },
    "tags": []
   },
   "outputs": [],
   "source": [
    "def evaluate_model(model_name, y_true, y_pred):\n",
    "    prec, rec, f1, _ = precision_recall_fscore_support(y_true, y_pred, zero_division=0)\n",
    "    micro_f1 = f1_score(y_true, y_pred, average='micro')\n",
    "    print(f\"\\n 📌 {model_name}\")\n",
    "    if len(prec) > 1 :\n",
    "        print(\"Precision (class 1): %.3f\" % prec[1])\n",
    "        print(\"Recall (class 1): %.3f\" % rec[1])\n",
    "        print(\"F1 Score (class 1): %.3f\" % f1[1])\n",
    "    else:\n",
    "        print(\"Precision (class 1): N/A (no predictions for class 1)\")\n",
    "        print(\"Recall (class 1): N/A (no predictions for class 1)\")\n",
    "        print(\"F1 Score (class 1): N/A (no predictions for class 1)\")\n",
    "    print(\"Micro-Average F1: %.3f\" % micro_f1)"
   ]
  },
  {
   "cell_type": "code",
   "execution_count": 22,
   "id": "18e10bc7",
   "metadata": {
    "execution": {
     "iopub.execute_input": "2025-06-01T15:57:33.794429Z",
     "iopub.status.busy": "2025-06-01T15:57:33.794030Z",
     "iopub.status.idle": "2025-06-01T16:38:16.098463Z",
     "shell.execute_reply": "2025-06-01T16:38:16.097259Z"
    },
    "papermill": {
     "duration": 2442.321889,
     "end_time": "2025-06-01T16:38:16.100964",
     "exception": false,
     "start_time": "2025-06-01T15:57:33.779075",
     "status": "completed"
    },
    "tags": []
   },
   "outputs": [
    {
     "name": "stderr",
     "output_type": "stream",
     "text": [
      "[I 2025-06-01 15:57:33,795] A new study created in memory with name: no-name-6df74a70-8975-4ef6-8c99-7dcfbdfe400f\n"
     ]
    },
    {
     "name": "stdout",
     "output_type": "stream",
     "text": [
      "Tuning RF (Mean Features)\n"
     ]
    },
    {
     "name": "stderr",
     "output_type": "stream",
     "text": [
      "[I 2025-06-01 15:57:59,178] Trial 0 finished with value: 0.6657908565423016 and parameters: {'n_estimators': 121, 'max_depth': 14, 'min_samples_split': 2, 'min_samples_leaf': 2, 'class_weight': 'balanced'}. Best is trial 0 with value: 0.6657908565423016.\n",
      "[I 2025-06-01 15:58:33,980] Trial 1 finished with value: 0.7405452946350045 and parameters: {'n_estimators': 145, 'max_depth': 19, 'min_samples_split': 11, 'min_samples_leaf': 10, 'class_weight': 'balanced_subsample'}. Best is trial 1 with value: 0.7405452946350045.\n",
      "[I 2025-06-01 15:59:11,858] Trial 2 finished with value: 0.781881313131313 and parameters: {'n_estimators': 157, 'max_depth': 19, 'min_samples_split': 6, 'min_samples_leaf': 3, 'class_weight': 'balanced_subsample'}. Best is trial 2 with value: 0.781881313131313.\n",
      "[I 2025-06-01 15:59:56,314] Trial 3 finished with value: 0.6982522636344493 and parameters: {'n_estimators': 244, 'max_depth': 9, 'min_samples_split': 13, 'min_samples_leaf': 6, 'class_weight': None}. Best is trial 2 with value: 0.781881313131313.\n",
      "[I 2025-06-01 16:00:23,600] Trial 4 finished with value: 0.45919497784342683 and parameters: {'n_estimators': 180, 'max_depth': 7, 'min_samples_split': 5, 'min_samples_leaf': 6, 'class_weight': 'balanced'}. Best is trial 2 with value: 0.781881313131313.\n",
      "[I 2025-06-01 16:01:09,514] Trial 5 finished with value: 0.6058531980174652 and parameters: {'n_estimators': 229, 'max_depth': 12, 'min_samples_split': 4, 'min_samples_leaf': 2, 'class_weight': 'balanced'}. Best is trial 2 with value: 0.781881313131313.\n",
      "[I 2025-06-01 16:01:44,651] Trial 6 finished with value: 0.6630265210608425 and parameters: {'n_estimators': 167, 'max_depth': 14, 'min_samples_split': 13, 'min_samples_leaf': 1, 'class_weight': 'balanced'}. Best is trial 2 with value: 0.781881313131313.\n",
      "[I 2025-06-01 16:02:08,723] Trial 7 finished with value: 0.6416535609975286 and parameters: {'n_estimators': 161, 'max_depth': 7, 'min_samples_split': 8, 'min_samples_leaf': 9, 'class_weight': None}. Best is trial 2 with value: 0.781881313131313.\n",
      "[I 2025-06-01 16:03:13,090] Trial 8 finished with value: 0.8297952994692949 and parameters: {'n_estimators': 264, 'max_depth': 20, 'min_samples_split': 13, 'min_samples_leaf': 3, 'class_weight': None}. Best is trial 8 with value: 0.8297952994692949.\n",
      "[I 2025-06-01 16:03:51,753] Trial 9 finished with value: 0.8093203883495146 and parameters: {'n_estimators': 171, 'max_depth': 14, 'min_samples_split': 9, 'min_samples_leaf': 2, 'class_weight': None}. Best is trial 8 with value: 0.8297952994692949.\n",
      "[I 2025-06-01 16:05:03,875] Trial 10 finished with value: 0.826956025128498 and parameters: {'n_estimators': 299, 'max_depth': 20, 'min_samples_split': 15, 'min_samples_leaf': 4, 'class_weight': None}. Best is trial 8 with value: 0.8297952994692949.\n",
      "[I 2025-06-01 16:06:15,783] Trial 11 finished with value: 0.826956025128498 and parameters: {'n_estimators': 299, 'max_depth': 20, 'min_samples_split': 15, 'min_samples_leaf': 4, 'class_weight': None}. Best is trial 8 with value: 0.8297952994692949.\n",
      "[I 2025-06-01 16:07:29,431] Trial 12 finished with value: 0.8202570496834837 and parameters: {'n_estimators': 293, 'max_depth': 17, 'min_samples_split': 15, 'min_samples_leaf': 5, 'class_weight': None}. Best is trial 8 with value: 0.8297952994692949.\n",
      "[I 2025-06-01 16:08:30,665] Trial 13 finished with value: 0.8166249759476621 and parameters: {'n_estimators': 262, 'max_depth': 17, 'min_samples_split': 12, 'min_samples_leaf': 7, 'class_weight': None}. Best is trial 8 with value: 0.8297952994692949.\n",
      "[I 2025-06-01 16:09:33,819] Trial 14 finished with value: 0.8196972600114965 and parameters: {'n_estimators': 264, 'max_depth': 17, 'min_samples_split': 15, 'min_samples_leaf': 5, 'class_weight': None}. Best is trial 8 with value: 0.8297952994692949.\n",
      "[I 2025-06-01 16:10:26,342] Trial 15 finished with value: 0.8330185115224782 and parameters: {'n_estimators': 213, 'max_depth': 20, 'min_samples_split': 10, 'min_samples_leaf': 3, 'class_weight': None}. Best is trial 15 with value: 0.8330185115224782.\n",
      "[I 2025-06-01 16:11:12,563] Trial 16 finished with value: 0.5790715971675846 and parameters: {'n_estimators': 211, 'max_depth': 11, 'min_samples_split': 10, 'min_samples_leaf': 1, 'class_weight': 'balanced_subsample'}. Best is trial 15 with value: 0.8330185115224782.\n",
      "[I 2025-06-01 16:12:01,445] Trial 17 finished with value: 0.8274681377211337 and parameters: {'n_estimators': 202, 'max_depth': 17, 'min_samples_split': 7, 'min_samples_leaf': 3, 'class_weight': None}. Best is trial 15 with value: 0.8330185115224782.\n",
      "[I 2025-06-01 16:12:27,085] Trial 18 finished with value: 0.4505552617662612 and parameters: {'n_estimators': 226, 'max_depth': 5, 'min_samples_split': 10, 'min_samples_leaf': 8, 'class_weight': None}. Best is trial 15 with value: 0.8330185115224782.\n",
      "[I 2025-06-01 16:13:28,715] Trial 19 finished with value: 0.6851127007693345 and parameters: {'n_estimators': 261, 'max_depth': 15, 'min_samples_split': 13, 'min_samples_leaf': 4, 'class_weight': 'balanced_subsample'}. Best is trial 15 with value: 0.8330185115224782.\n",
      "[I 2025-06-01 16:14:26,741] Trial 20 finished with value: 0.8301671732522796 and parameters: {'n_estimators': 242, 'max_depth': 18, 'min_samples_split': 11, 'min_samples_leaf': 3, 'class_weight': None}. Best is trial 15 with value: 0.8330185115224782.\n",
      "[I 2025-06-01 16:15:25,807] Trial 21 finished with value: 0.8296661608497724 and parameters: {'n_estimators': 241, 'max_depth': 19, 'min_samples_split': 12, 'min_samples_leaf': 3, 'class_weight': None}. Best is trial 15 with value: 0.8330185115224782.\n",
      "[I 2025-06-01 16:16:33,787] Trial 22 finished with value: 0.8308684110731893 and parameters: {'n_estimators': 280, 'max_depth': 18, 'min_samples_split': 9, 'min_samples_leaf': 3, 'class_weight': None}. Best is trial 15 with value: 0.8330185115224782.\n",
      "[I 2025-06-01 16:17:40,426] Trial 23 finished with value: 0.8235068912710566 and parameters: {'n_estimators': 281, 'max_depth': 16, 'min_samples_split': 8, 'min_samples_leaf': 4, 'class_weight': None}. Best is trial 15 with value: 0.8330185115224782.\n",
      "[I 2025-06-01 16:18:28,365] Trial 24 finished with value: 0.8351023502653525 and parameters: {'n_estimators': 194, 'max_depth': 18, 'min_samples_split': 10, 'min_samples_leaf': 1, 'class_weight': None}. Best is trial 24 with value: 0.8351023502653525.\n",
      "[I 2025-06-01 16:19:14,167] Trial 25 finished with value: 0.8353520060560182 and parameters: {'n_estimators': 189, 'max_depth': 18, 'min_samples_split': 9, 'min_samples_leaf': 1, 'class_weight': None}. Best is trial 25 with value: 0.8353520060560182.\n",
      "[I 2025-06-01 16:19:58,202] Trial 26 finished with value: 0.8196847366397539 and parameters: {'n_estimators': 188, 'max_depth': 15, 'min_samples_split': 7, 'min_samples_leaf': 1, 'class_weight': None}. Best is trial 25 with value: 0.8353520060560182.\n",
      "[I 2025-06-01 16:20:45,640] Trial 27 finished with value: 0.8351023502653525 and parameters: {'n_estimators': 194, 'max_depth': 18, 'min_samples_split': 10, 'min_samples_leaf': 1, 'class_weight': None}. Best is trial 25 with value: 0.8353520060560182.\n",
      "[I 2025-06-01 16:21:31,198] Trial 28 finished with value: 0.7267441860465116 and parameters: {'n_estimators': 191, 'max_depth': 16, 'min_samples_split': 7, 'min_samples_leaf': 1, 'class_weight': 'balanced_subsample'}. Best is trial 25 with value: 0.8353520060560182.\n",
      "[I 2025-06-01 16:21:52,663] Trial 29 finished with value: 0.6318136769078296 and parameters: {'n_estimators': 101, 'max_depth': 13, 'min_samples_split': 2, 'min_samples_leaf': 2, 'class_weight': 'balanced'}. Best is trial 25 with value: 0.8353520060560182.\n",
      "[I 2025-06-01 16:22:23,268] Trial 30 finished with value: 0.7654017514211091 and parameters: {'n_estimators': 138, 'max_depth': 18, 'min_samples_split': 11, 'min_samples_leaf': 1, 'class_weight': 'balanced'}. Best is trial 25 with value: 0.8353520060560182.\n",
      "[I 2025-06-01 16:23:15,128] Trial 31 finished with value: 0.8309196915553884 and parameters: {'n_estimators': 211, 'max_depth': 19, 'min_samples_split': 10, 'min_samples_leaf': 2, 'class_weight': None}. Best is trial 25 with value: 0.8353520060560182.\n",
      "[I 2025-06-01 16:24:04,644] Trial 32 finished with value: 0.8380772855796418 and parameters: {'n_estimators': 201, 'max_depth': 20, 'min_samples_split': 10, 'min_samples_leaf': 1, 'class_weight': None}. Best is trial 32 with value: 0.8380772855796418.\n",
      "[I 2025-06-01 16:24:51,692] Trial 33 finished with value: 0.8357305071915215 and parameters: {'n_estimators': 193, 'max_depth': 18, 'min_samples_split': 9, 'min_samples_leaf': 1, 'class_weight': None}. Best is trial 32 with value: 0.8380772855796418.\n",
      "[I 2025-06-01 16:25:27,163] Trial 34 finished with value: 0.8223797662387431 and parameters: {'n_estimators': 147, 'max_depth': 16, 'min_samples_split': 9, 'min_samples_leaf': 2, 'class_weight': None}. Best is trial 32 with value: 0.8380772855796418.\n",
      "[I 2025-06-01 16:26:11,138] Trial 35 finished with value: 0.7856005097164702 and parameters: {'n_estimators': 179, 'max_depth': 19, 'min_samples_split': 8, 'min_samples_leaf': 1, 'class_weight': 'balanced_subsample'}. Best is trial 32 with value: 0.8380772855796418.\n",
      "[I 2025-06-01 16:26:57,678] Trial 36 finished with value: 0.7539987851791862 and parameters: {'n_estimators': 225, 'max_depth': 11, 'min_samples_split': 11, 'min_samples_leaf': 2, 'class_weight': None}. Best is trial 32 with value: 0.8380772855796418.\n",
      "[I 2025-06-01 16:27:47,315] Trial 37 finished with value: 0.8374106134738426 and parameters: {'n_estimators': 200, 'max_depth': 19, 'min_samples_split': 6, 'min_samples_leaf': 2, 'class_weight': None}. Best is trial 32 with value: 0.8380772855796418.\n",
      "[I 2025-06-01 16:28:27,511] Trial 38 finished with value: 0.7862509992006396 and parameters: {'n_estimators': 181, 'max_depth': 19, 'min_samples_split': 5, 'min_samples_leaf': 2, 'class_weight': 'balanced'}. Best is trial 32 with value: 0.8380772855796418.\n",
      "[I 2025-06-01 16:29:15,201] Trial 39 finished with value: 0.8188976377952756 and parameters: {'n_estimators': 201, 'max_depth': 15, 'min_samples_split': 6, 'min_samples_leaf': 1, 'class_weight': None}. Best is trial 32 with value: 0.8380772855796418.\n",
      "[I 2025-06-01 16:29:50,749] Trial 40 finished with value: 0.749777117384844 and parameters: {'n_estimators': 148, 'max_depth': 20, 'min_samples_split': 4, 'min_samples_leaf': 10, 'class_weight': 'balanced_subsample'}. Best is trial 32 with value: 0.8380772855796418.\n",
      "[I 2025-06-01 16:30:32,939] Trial 41 finished with value: 0.8315330680310782 and parameters: {'n_estimators': 172, 'max_depth': 18, 'min_samples_split': 9, 'min_samples_leaf': 2, 'class_weight': None}. Best is trial 32 with value: 0.8380772855796418.\n",
      "[I 2025-06-01 16:31:27,154] Trial 42 finished with value: 0.8357815442561205 and parameters: {'n_estimators': 218, 'max_depth': 19, 'min_samples_split': 8, 'min_samples_leaf': 1, 'class_weight': None}. Best is trial 32 with value: 0.8380772855796418.\n",
      "[I 2025-06-01 16:32:20,648] Trial 43 finished with value: 0.8371568258743889 and parameters: {'n_estimators': 217, 'max_depth': 19, 'min_samples_split': 6, 'min_samples_leaf': 2, 'class_weight': None}. Best is trial 32 with value: 0.8380772855796418.\n",
      "[I 2025-06-01 16:33:15,363] Trial 44 finished with value: 0.8376550169109357 and parameters: {'n_estimators': 220, 'max_depth': 19, 'min_samples_split': 6, 'min_samples_leaf': 2, 'class_weight': None}. Best is trial 32 with value: 0.8380772855796418.\n",
      "[I 2025-06-01 16:34:09,205] Trial 45 finished with value: 0.8371568258743889 and parameters: {'n_estimators': 219, 'max_depth': 19, 'min_samples_split': 6, 'min_samples_leaf': 2, 'class_weight': None}. Best is trial 32 with value: 0.8380772855796418.\n",
      "[I 2025-06-01 16:35:01,101] Trial 46 finished with value: 0.797063621533442 and parameters: {'n_estimators': 234, 'max_depth': 20, 'min_samples_split': 5, 'min_samples_leaf': 2, 'class_weight': 'balanced'}. Best is trial 32 with value: 0.8380772855796418.\n",
      "[I 2025-06-01 16:35:55,696] Trial 47 finished with value: 0.8365619710362988 and parameters: {'n_estimators': 220, 'max_depth': 20, 'min_samples_split': 4, 'min_samples_leaf': 3, 'class_weight': None}. Best is trial 32 with value: 0.8380772855796418.\n",
      "[I 2025-06-01 16:36:37,372] Trial 48 finished with value: 0.6767961797265031 and parameters: {'n_estimators': 252, 'max_depth': 8, 'min_samples_split': 6, 'min_samples_leaf': 4, 'class_weight': None}. Best is trial 32 with value: 0.8380772855796418.\n",
      "[I 2025-06-01 16:37:27,522] Trial 49 finished with value: 0.8281101614434948 and parameters: {'n_estimators': 206, 'max_depth': 19, 'min_samples_split': 3, 'min_samples_leaf': 5, 'class_weight': None}. Best is trial 32 with value: 0.8380772855796418.\n"
     ]
    },
    {
     "name": "stdout",
     "output_type": "stream",
     "text": [
      "Best parameters found for F1-score (pos_label=1): {'n_estimators': 201, 'max_depth': 20, 'min_samples_split': 10, 'min_samples_leaf': 1, 'class_weight': None}\n"
     ]
    }
   ],
   "source": [
    "print(\"Tuning RF (Mean Features)\")\n",
    "best_rf_mean = tune_and_train(X_train_selected_mean, y_train, X_test_selected_mean, y_test, model_type='rf', n_trials=50)"
   ]
  },
  {
   "cell_type": "code",
   "execution_count": 23,
   "id": "08e06719",
   "metadata": {
    "execution": {
     "iopub.execute_input": "2025-06-01T16:38:16.137087Z",
     "iopub.status.busy": "2025-06-01T16:38:16.136710Z",
     "iopub.status.idle": "2025-06-01T16:38:17.176473Z",
     "shell.execute_reply": "2025-06-01T16:38:17.175437Z"
    },
    "papermill": {
     "duration": 1.059734,
     "end_time": "2025-06-01T16:38:17.178104",
     "exception": false,
     "start_time": "2025-06-01T16:38:16.118370",
     "status": "completed"
    },
    "tags": []
   },
   "outputs": [
    {
     "name": "stdout",
     "output_type": "stream",
     "text": [
      "\n",
      " 📌 Best Random Forest (Mean)\n",
      "Precision (class 1): 0.920\n",
      "Recall (class 1): 0.769\n",
      "F1 Score (class 1): 0.838\n",
      "Micro-Average F1: 0.989\n"
     ]
    }
   ],
   "source": [
    "fit_features = X_train_selected_mean.columns.tolist()\n",
    "X_test_for_predict = X_test_selected_mean[fit_features]\n",
    "\n",
    "# Bây giờ thực hiện predict\n",
    "y_pred_best_rf = best_rf_mean.predict(X_test_for_predict)\n",
    "evaluate_model(\"Best Random Forest (Mean)\", y_test, y_pred_best_rf)"
   ]
  },
  {
   "cell_type": "code",
   "execution_count": 24,
   "id": "e359165b",
   "metadata": {
    "execution": {
     "iopub.execute_input": "2025-06-01T16:38:17.214471Z",
     "iopub.status.busy": "2025-06-01T16:38:17.214122Z",
     "iopub.status.idle": "2025-06-01T16:38:17.219080Z",
     "shell.execute_reply": "2025-06-01T16:38:17.218083Z"
    },
    "papermill": {
     "duration": 0.024994,
     "end_time": "2025-06-01T16:38:17.220693",
     "exception": false,
     "start_time": "2025-06-01T16:38:17.195699",
     "status": "completed"
    },
    "tags": []
   },
   "outputs": [],
   "source": [
    "best_params_from_49_features = {\n",
    "    'n_estimators': 132,\n",
    "    'max_depth': 19,\n",
    "    'min_samples_split': 7,\n",
    "    'min_samples_leaf': 2,\n",
    "    'class_weight': None  \n",
    "}"
   ]
  },
  {
   "cell_type": "code",
   "execution_count": 25,
   "id": "c0d520a7",
   "metadata": {
    "execution": {
     "iopub.execute_input": "2025-06-01T16:38:17.256278Z",
     "iopub.status.busy": "2025-06-01T16:38:17.255927Z",
     "iopub.status.idle": "2025-06-01T16:38:17.261638Z",
     "shell.execute_reply": "2025-06-01T16:38:17.260352Z"
    },
    "papermill": {
     "duration": 0.025223,
     "end_time": "2025-06-01T16:38:17.263160",
     "exception": false,
     "start_time": "2025-06-01T16:38:17.237937",
     "status": "completed"
    },
    "tags": []
   },
   "outputs": [
    {
     "name": "stdout",
     "output_type": "stream",
     "text": [
      "\n",
      "--- Training RF on ALL Features (55) using Previously Found Best Params ---\n"
     ]
    }
   ],
   "source": [
    "print(\"\\n--- Training RF on ALL Features (55) using Previously Found Best Params ---\")\n",
    "\n",
    "# Tạo một mô hình Random Forest mới với các tham số đã lấy được\n",
    "rf_on_all_features_with_tuned_params = RandomForestClassifier(\n",
    "    **best_params_from_49_features, # Sử dụng bộ tham số đã tune\n",
    "    random_state=42,  # Giữ random_state để có thể so sánh\n",
    "    n_jobs=-1         # Sử dụng đa luồng\n",
    ")"
   ]
  },
  {
   "cell_type": "code",
   "execution_count": 26,
   "id": "92180432",
   "metadata": {
    "execution": {
     "iopub.execute_input": "2025-06-01T16:38:17.298987Z",
     "iopub.status.busy": "2025-06-01T16:38:17.298665Z",
     "iopub.status.idle": "2025-06-01T16:39:11.759291Z",
     "shell.execute_reply": "2025-06-01T16:39:11.758339Z"
    },
    "papermill": {
     "duration": 54.480919,
     "end_time": "2025-06-01T16:39:11.760950",
     "exception": false,
     "start_time": "2025-06-01T16:38:17.280031",
     "status": "completed"
    },
    "tags": []
   },
   "outputs": [
    {
     "name": "stdout",
     "output_type": "stream",
     "text": [
      "\n",
      "--- Evaluating RF on ALL Test Features (using Previously Found Best Params) ---\n",
      "\n",
      " 📌 RF on ALL Features (Params from 49-feature tuning)\n",
      "Precision (class 1): 0.918\n",
      "Recall (class 1): 0.764\n",
      "F1 Score (class 1): 0.834\n",
      "Micro-Average F1: 0.989\n",
      "\n",
      "--- For Reference: Original Untuned RF on ALL Features ---\n",
      "\n",
      " 📌 Original Untuned RF on ALL Features\n",
      "Precision (class 1): 0.921\n",
      "Recall (class 1): 0.790\n",
      "F1 Score (class 1): 0.850\n",
      "Micro-Average F1: 0.990\n"
     ]
    }
   ],
   "source": [
    "rf_on_all_features_with_tuned_params.fit(X_train_scaled, y_train)\n",
    "print(\"\\n--- Evaluating RF on ALL Test Features (using Previously Found Best Params) ---\")\n",
    "\n",
    "y_pred_rf_all_features = rf_on_all_features_with_tuned_params.predict(X_test_scaled)\n",
    "evaluate_model(\"RF on ALL Features (Params from 49-feature tuning)\", y_test, y_pred_rf_all_features)\n",
    "\n",
    "\n",
    "print(\"\\n--- For Reference: Original Untuned RF on ALL Features ---\")\n",
    "rf_original = RandomForestClassifier(n_estimators=100, random_state=42, n_jobs=-1)\n",
    "rf_original.fit(X_train_scaled, y_train)\n",
    "y_pred_rf_original = rf_original.predict(X_test_scaled)\n",
    "evaluate_model(\"Original Untuned RF on ALL Features\", y_test, y_pred_rf_original)"
   ]
  },
  {
   "cell_type": "markdown",
   "id": "f71c014d",
   "metadata": {
    "papermill": {
     "duration": 0.017191,
     "end_time": "2025-06-01T16:39:11.795744",
     "exception": false,
     "start_time": "2025-06-01T16:39:11.778553",
     "status": "completed"
    },
    "tags": []
   },
   "source": [
    "## Tuning RF on max features"
   ]
  },
  {
   "cell_type": "code",
   "execution_count": 27,
   "id": "a617fdcd",
   "metadata": {
    "execution": {
     "iopub.execute_input": "2025-06-01T16:39:11.832368Z",
     "iopub.status.busy": "2025-06-01T16:39:11.831593Z",
     "iopub.status.idle": "2025-06-01T16:46:46.048461Z",
     "shell.execute_reply": "2025-06-01T16:46:46.047600Z"
    },
    "papermill": {
     "duration": 454.237388,
     "end_time": "2025-06-01T16:46:46.050456",
     "exception": false,
     "start_time": "2025-06-01T16:39:11.813068",
     "status": "completed"
    },
    "tags": []
   },
   "outputs": [
    {
     "name": "stderr",
     "output_type": "stream",
     "text": [
      "[I 2025-06-01 16:39:11,834] A new study created in memory with name: no-name-b89055d8-14ce-43b7-ba51-747d060ee907\n"
     ]
    },
    {
     "name": "stdout",
     "output_type": "stream",
     "text": [
      "Tuning RF (Max Features)\n"
     ]
    },
    {
     "name": "stderr",
     "output_type": "stream",
     "text": [
      "[I 2025-06-01 16:39:45,377] Trial 0 finished with value: 0.6915579958819492 and parameters: {'n_estimators': 166, 'max_depth': 15, 'min_samples_split': 5, 'min_samples_leaf': 1, 'class_weight': 'balanced'}. Best is trial 0 with value: 0.6915579958819492.\n",
      "[I 2025-06-01 16:40:29,022] Trial 1 finished with value: 0.8175154320987654 and parameters: {'n_estimators': 196, 'max_depth': 16, 'min_samples_split': 10, 'min_samples_leaf': 3, 'class_weight': None}. Best is trial 1 with value: 0.8175154320987654.\n",
      "[I 2025-06-01 16:41:15,351] Trial 2 finished with value: 0.6413957574996861 and parameters: {'n_estimators': 233, 'max_depth': 14, 'min_samples_split': 7, 'min_samples_leaf': 6, 'class_weight': 'balanced'}. Best is trial 1 with value: 0.8175154320987654.\n",
      "[I 2025-06-01 16:41:52,959] Trial 3 finished with value: 0.7676425269645609 and parameters: {'n_estimators': 183, 'max_depth': 19, 'min_samples_split': 13, 'min_samples_leaf': 2, 'class_weight': 'balanced'}. Best is trial 1 with value: 0.8175154320987654.\n",
      "[I 2025-06-01 16:42:57,743] Trial 4 finished with value: 0.8292497625830959 and parameters: {'n_estimators': 284, 'max_depth': 19, 'min_samples_split': 10, 'min_samples_leaf': 3, 'class_weight': None}. Best is trial 4 with value: 0.8292497625830959.\n",
      "[I 2025-06-01 16:43:35,121] Trial 5 finished with value: 0.4102256155099939 and parameters: {'n_estimators': 257, 'max_depth': 6, 'min_samples_split': 7, 'min_samples_leaf': 4, 'class_weight': 'balanced_subsample'}. Best is trial 4 with value: 0.8292497625830959.\n",
      "[I 2025-06-01 16:44:01,919] Trial 6 finished with value: 0.668995633187773 and parameters: {'n_estimators': 173, 'max_depth': 8, 'min_samples_split': 6, 'min_samples_leaf': 1, 'class_weight': None}. Best is trial 4 with value: 0.8292497625830959.\n",
      "[I 2025-06-01 16:44:24,812] Trial 7 finished with value: 0.6663732394366197 and parameters: {'n_estimators': 150, 'max_depth': 8, 'min_samples_split': 2, 'min_samples_leaf': 10, 'class_weight': None}. Best is trial 4 with value: 0.8292497625830959.\n",
      "[I 2025-06-01 16:45:16,328] Trial 8 finished with value: 0.765088207985144 and parameters: {'n_estimators': 223, 'max_depth': 18, 'min_samples_split': 2, 'min_samples_leaf': 2, 'class_weight': 'balanced_subsample'}. Best is trial 4 with value: 0.8292497625830959.\n",
      "[I 2025-06-01 16:45:42,736] Trial 9 finished with value: 0.3807521229276183 and parameters: {'n_estimators': 203, 'max_depth': 5, 'min_samples_split': 13, 'min_samples_leaf': 9, 'class_weight': 'balanced_subsample'}. Best is trial 4 with value: 0.8292497625830959.\n"
     ]
    },
    {
     "name": "stdout",
     "output_type": "stream",
     "text": [
      "Best parameters found for F1-score (pos_label=1): {'n_estimators': 284, 'max_depth': 19, 'min_samples_split': 10, 'min_samples_leaf': 3, 'class_weight': None}\n"
     ]
    }
   ],
   "source": [
    "print(\"Tuning RF (Max Features)\")\n",
    "best_rf_mean = tune_and_train(X_train_selected_max, y_train, X_test_selected_max, y_test, model_type='rf', n_trials=10)\n"
   ]
  },
  {
   "cell_type": "code",
   "execution_count": 28,
   "id": "adf38f2e",
   "metadata": {
    "execution": {
     "iopub.execute_input": "2025-06-01T16:46:46.088521Z",
     "iopub.status.busy": "2025-06-01T16:46:46.088155Z",
     "iopub.status.idle": "2025-06-01T16:46:47.539670Z",
     "shell.execute_reply": "2025-06-01T16:46:47.538575Z"
    },
    "papermill": {
     "duration": 1.472247,
     "end_time": "2025-06-01T16:46:47.541271",
     "exception": false,
     "start_time": "2025-06-01T16:46:46.069024",
     "status": "completed"
    },
    "tags": []
   },
   "outputs": [
    {
     "name": "stdout",
     "output_type": "stream",
     "text": [
      "\n",
      " 📌 Best Random Forest (Mean)\n",
      "Precision (class 1): 0.919\n",
      "Recall (class 1): 0.756\n",
      "F1 Score (class 1): 0.829\n",
      "Micro-Average F1: 0.989\n"
     ]
    }
   ],
   "source": [
    "fit_features = X_train_selected_max.columns.tolist()\n",
    "X_test_for_predict = X_test_selected_max[fit_features]\n",
    "\n",
    "# Bây giờ thực hiện predict\n",
    "y_pred_best_rf = best_rf_mean.predict(X_test_for_predict)\n",
    "evaluate_model(\"Best Random Forest (Mean)\", y_test, y_pred_best_rf)"
   ]
  },
  {
   "cell_type": "code",
   "execution_count": 29,
   "id": "e539b73c",
   "metadata": {
    "execution": {
     "iopub.execute_input": "2025-06-01T16:46:47.579642Z",
     "iopub.status.busy": "2025-06-01T16:46:47.578850Z",
     "iopub.status.idle": "2025-06-01T16:46:47.583657Z",
     "shell.execute_reply": "2025-06-01T16:46:47.582639Z"
    },
    "papermill": {
     "duration": 0.025625,
     "end_time": "2025-06-01T16:46:47.585240",
     "exception": false,
     "start_time": "2025-06-01T16:46:47.559615",
     "status": "completed"
    },
    "tags": []
   },
   "outputs": [],
   "source": [
    "best_params_from_49_features = { # not tune for max\n",
    "    'n_estimators': 132,\n",
    "    'max_depth': 19,\n",
    "    'min_samples_split': 7,\n",
    "    'min_samples_leaf': 2,\n",
    "    'class_weight': None  \n",
    "}"
   ]
  },
  {
   "cell_type": "code",
   "execution_count": 30,
   "id": "455dff2e",
   "metadata": {
    "execution": {
     "iopub.execute_input": "2025-06-01T16:46:47.623615Z",
     "iopub.status.busy": "2025-06-01T16:46:47.623266Z",
     "iopub.status.idle": "2025-06-01T16:46:47.629117Z",
     "shell.execute_reply": "2025-06-01T16:46:47.628158Z"
    },
    "papermill": {
     "duration": 0.026816,
     "end_time": "2025-06-01T16:46:47.630723",
     "exception": false,
     "start_time": "2025-06-01T16:46:47.603907",
     "status": "completed"
    },
    "tags": []
   },
   "outputs": [
    {
     "name": "stdout",
     "output_type": "stream",
     "text": [
      "\n",
      "--- Training RF on ALL Features (55) using Previously Found Best Params ---\n"
     ]
    }
   ],
   "source": [
    "print(\"\\n--- Training RF on ALL Features (55) using Previously Found Best Params ---\")\n",
    "\n",
    "# Tạo một mô hình Random Forest mới với các tham số đã lấy được\n",
    "rf_on_all_features_with_tuned_params = RandomForestClassifier(\n",
    "    **best_params_from_49_features, # Sử dụng bộ tham số đã tune\n",
    "    random_state=42,  # Giữ random_state để có thể so sánh\n",
    "    n_jobs=-1         # Sử dụng đa luồng\n",
    ")"
   ]
  },
  {
   "cell_type": "code",
   "execution_count": 31,
   "id": "3f177aef",
   "metadata": {
    "execution": {
     "iopub.execute_input": "2025-06-01T16:46:47.669461Z",
     "iopub.status.busy": "2025-06-01T16:46:47.669082Z",
     "iopub.status.idle": "2025-06-01T16:47:40.833493Z",
     "shell.execute_reply": "2025-06-01T16:47:40.832536Z"
    },
    "papermill": {
     "duration": 53.185726,
     "end_time": "2025-06-01T16:47:40.834896",
     "exception": false,
     "start_time": "2025-06-01T16:46:47.649170",
     "status": "completed"
    },
    "tags": []
   },
   "outputs": [
    {
     "name": "stdout",
     "output_type": "stream",
     "text": [
      "\n",
      "--- Evaluating RF on ALL Test Features (using Previously Found Best Params) ---\n",
      "\n",
      " 📌 RF on ALL Features (Params from 49-feature tuning)\n",
      "Precision (class 1): 0.918\n",
      "Recall (class 1): 0.764\n",
      "F1 Score (class 1): 0.834\n",
      "Micro-Average F1: 0.989\n",
      "\n",
      "--- For Reference: Original Untuned RF on ALL Features ---\n",
      "\n",
      " 📌 Original Untuned RF on ALL Features\n",
      "Precision (class 1): 0.921\n",
      "Recall (class 1): 0.790\n",
      "F1 Score (class 1): 0.850\n",
      "Micro-Average F1: 0.990\n"
     ]
    }
   ],
   "source": [
    "rf_on_all_features_with_tuned_params.fit(X_train_scaled, y_train)\n",
    "print(\"\\n--- Evaluating RF on ALL Test Features (using Previously Found Best Params) ---\")\n",
    "\n",
    "y_pred_rf_all_features = rf_on_all_features_with_tuned_params.predict(X_test_scaled)\n",
    "evaluate_model(\"RF on ALL Features (Params from 49-feature tuning)\", y_test, y_pred_rf_all_features)\n",
    "\n",
    "\n",
    "print(\"\\n--- For Reference: Original Untuned RF on ALL Features ---\")\n",
    "rf_original = RandomForestClassifier(n_estimators=100, random_state=42, n_jobs=-1)\n",
    "rf_original.fit(X_train_scaled, y_train)\n",
    "y_pred_rf_original = rf_original.predict(X_test_scaled)\n",
    "evaluate_model(\"Original Untuned RF on ALL Features\", y_test, y_pred_rf_original)"
   ]
  },
  {
   "cell_type": "markdown",
   "id": "5d6ad6b1",
   "metadata": {
    "papermill": {
     "duration": 0.017755,
     "end_time": "2025-06-01T16:47:40.871189",
     "exception": false,
     "start_time": "2025-06-01T16:47:40.853434",
     "status": "completed"
    },
    "tags": []
   },
   "source": [
    "## Tuning XGB Max features"
   ]
  },
  {
   "cell_type": "code",
   "execution_count": 32,
   "id": "f08e7a39",
   "metadata": {
    "execution": {
     "iopub.execute_input": "2025-06-01T16:47:40.909478Z",
     "iopub.status.busy": "2025-06-01T16:47:40.909119Z",
     "iopub.status.idle": "2025-06-01T16:49:42.032876Z",
     "shell.execute_reply": "2025-06-01T16:49:42.031689Z"
    },
    "papermill": {
     "duration": 121.144886,
     "end_time": "2025-06-01T16:49:42.034632",
     "exception": false,
     "start_time": "2025-06-01T16:47:40.889746",
     "status": "completed"
    },
    "tags": []
   },
   "outputs": [
    {
     "name": "stderr",
     "output_type": "stream",
     "text": [
      "[I 2025-06-01 16:47:40,911] A new study created in memory with name: no-name-4eef9554-a6d1-4f87-9fde-b685779a1462\n"
     ]
    },
    {
     "name": "stdout",
     "output_type": "stream",
     "text": [
      "Tuning XGB (Max Features)\n"
     ]
    },
    {
     "name": "stderr",
     "output_type": "stream",
     "text": [
      "[I 2025-06-01 16:47:50,740] Trial 0 finished with value: 0.8355525965379494 and parameters: {'n_estimators': 196, 'max_depth': 9, 'learning_rate': 0.06408634303742047, 'subsample': 0.7091536979900145, 'colsample_bytree': 0.9573759991933465, 'gamma': 0.08919045807551168, 'scale_pos_weight': 4.245157153582278}. Best is trial 0 with value: 0.8355525965379494.\n",
      "[I 2025-06-01 16:47:57,360] Trial 1 finished with value: 0.8636284267504802 and parameters: {'n_estimators': 157, 'max_depth': 10, 'learning_rate': 0.13061966284415263, 'subsample': 0.9531529322700607, 'colsample_bytree': 0.7619582866596379, 'gamma': 0.2136537085388059, 'scale_pos_weight': 2.22907820873058}. Best is trial 1 with value: 0.8636284267504802.\n",
      "[I 2025-06-01 16:48:02,404] Trial 2 finished with value: 0.7113924050632912 and parameters: {'n_estimators': 157, 'max_depth': 7, 'learning_rate': 0.04381411555187021, 'subsample': 0.6455186615866763, 'colsample_bytree': 0.7850233468962275, 'gamma': 0.3551249529359471, 'scale_pos_weight': 7.161563382908924}. Best is trial 1 with value: 0.8636284267504802.\n",
      "[I 2025-06-01 16:48:05,293] Trial 3 finished with value: 0.48831714360724604 and parameters: {'n_estimators': 134, 'max_depth': 3, 'learning_rate': 0.010129460891285497, 'subsample': 0.92792488439986, 'colsample_bytree': 0.8258768580950269, 'gamma': 0.01650110830960899, 'scale_pos_weight': 8.0751200027446}. Best is trial 1 with value: 0.8636284267504802.\n",
      "[I 2025-06-01 16:48:10,591] Trial 4 finished with value: 0.7989723827874117 and parameters: {'n_estimators': 266, 'max_depth': 5, 'learning_rate': 0.09075747921944813, 'subsample': 0.8119921179169438, 'colsample_bytree': 0.7458205334099695, 'gamma': 0.13431367547791184, 'scale_pos_weight': 3.9642289137079407}. Best is trial 1 with value: 0.8636284267504802.\n",
      "[I 2025-06-01 16:48:19,543] Trial 5 finished with value: 0.7496890547263682 and parameters: {'n_estimators': 169, 'max_depth': 8, 'learning_rate': 0.017260242173708785, 'subsample': 0.8306772181805113, 'colsample_bytree': 0.9816518521010362, 'gamma': 0.4584023879358864, 'scale_pos_weight': 5.362061747102427}. Best is trial 1 with value: 0.8636284267504802.\n",
      "[I 2025-06-01 16:48:30,705] Trial 6 finished with value: 0.778912586362271 and parameters: {'n_estimators': 245, 'max_depth': 10, 'learning_rate': 0.03367394104247188, 'subsample': 0.7058677124630071, 'colsample_bytree': 0.6219266285806085, 'gamma': 0.2981766459197513, 'scale_pos_weight': 9.852747853887129}. Best is trial 1 with value: 0.8636284267504802.\n",
      "[I 2025-06-01 16:48:37,679] Trial 7 finished with value: 0.8510938602681722 and parameters: {'n_estimators': 269, 'max_depth': 7, 'learning_rate': 0.08029198955805074, 'subsample': 0.9912396259069038, 'colsample_bytree': 0.6967357095999387, 'gamma': 0.11109604052476169, 'scale_pos_weight': 1.9464201978479012}. Best is trial 1 with value: 0.8636284267504802.\n",
      "[I 2025-06-01 16:48:42,660] Trial 8 finished with value: 0.8361716621253406 and parameters: {'n_estimators': 207, 'max_depth': 6, 'learning_rate': 0.10677342950927188, 'subsample': 0.7812879989480226, 'colsample_bytree': 0.8982364468874482, 'gamma': 0.4343355047871623, 'scale_pos_weight': 2.5309120034070967}. Best is trial 1 with value: 0.8636284267504802.\n",
      "[I 2025-06-01 16:48:49,077] Trial 9 finished with value: 0.6646781789638933 and parameters: {'n_estimators': 194, 'max_depth': 5, 'learning_rate': 0.014638599021286018, 'subsample': 0.8137816976210627, 'colsample_bytree': 0.8280554129073869, 'gamma': 0.06329625222379315, 'scale_pos_weight': 4.246222838156025}. Best is trial 1 with value: 0.8636284267504802.\n",
      "[I 2025-06-01 16:48:53,432] Trial 10 finished with value: 0.862461594071932 and parameters: {'n_estimators': 103, 'max_depth': 10, 'learning_rate': 0.1918245748260824, 'subsample': 0.9120160121567608, 'colsample_bytree': 0.6462072202763738, 'gamma': 0.22671004554740987, 'scale_pos_weight': 1.0068767113403065}. Best is trial 1 with value: 0.8636284267504802.\n",
      "[I 2025-06-01 16:48:57,800] Trial 11 finished with value: 0.8641711229946524 and parameters: {'n_estimators': 106, 'max_depth': 10, 'learning_rate': 0.185519024522071, 'subsample': 0.92413848133984, 'colsample_bytree': 0.6332580990377376, 'gamma': 0.2063804114119132, 'scale_pos_weight': 1.4193237336299067}. Best is trial 11 with value: 0.8641711229946524.\n",
      "[I 2025-06-01 16:49:01,853] Trial 12 finished with value: 0.8549141965678626 and parameters: {'n_estimators': 106, 'max_depth': 9, 'learning_rate': 0.18415865970525153, 'subsample': 0.9754003518233914, 'colsample_bytree': 0.7053860371859545, 'gamma': 0.21434561879791597, 'scale_pos_weight': 2.56082504873295}. Best is trial 11 with value: 0.8641711229946524.\n",
      "[I 2025-06-01 16:49:07,335] Trial 13 finished with value: 0.8620199146514935 and parameters: {'n_estimators': 134, 'max_depth': 10, 'learning_rate': 0.1263484389605879, 'subsample': 0.8940207350515674, 'colsample_bytree': 0.6053452121926293, 'gamma': 0.19328822268306411, 'scale_pos_weight': 1.4453532304696914}. Best is trial 11 with value: 0.8641711229946524.\n",
      "[I 2025-06-01 16:49:11,809] Trial 14 finished with value: 0.8463244073000171 and parameters: {'n_estimators': 136, 'max_depth': 8, 'learning_rate': 0.14273137431200061, 'subsample': 0.872488575663321, 'colsample_bytree': 0.6795593981820782, 'gamma': 0.3131887373342707, 'scale_pos_weight': 3.2333304353972627}. Best is trial 11 with value: 0.8641711229946524.\n",
      "[I 2025-06-01 16:49:18,867] Trial 15 finished with value: 0.8138597904915391 and parameters: {'n_estimators': 165, 'max_depth': 9, 'learning_rate': 0.06156719216935966, 'subsample': 0.960050606412798, 'colsample_bytree': 0.8819547147553976, 'gamma': 0.17771428820948967, 'scale_pos_weight': 5.445967768090444}. Best is trial 11 with value: 0.8641711229946524.\n",
      "[I 2025-06-01 16:49:23,744] Trial 16 finished with value: 0.8465608465608465 and parameters: {'n_estimators': 100, 'max_depth': 8, 'learning_rate': 0.14066668838277416, 'subsample': 0.8646357851117188, 'colsample_bytree': 0.7545552539730255, 'gamma': 0.28296454152581363, 'scale_pos_weight': 1.000701836273214}. Best is trial 11 with value: 0.8641711229946524.\n",
      "[I 2025-06-01 16:49:27,379] Trial 17 finished with value: 0.5545053560176434 and parameters: {'n_estimators': 224, 'max_depth': 3, 'learning_rate': 0.02896429380881474, 'subsample': 0.9395654179830568, 'colsample_bytree': 0.6584099796173538, 'gamma': 0.37752325838583894, 'scale_pos_weight': 6.725092513444111}. Best is trial 11 with value: 0.8641711229946524.\n",
      "[I 2025-06-01 16:49:32,598] Trial 18 finished with value: 0.8638788504560316 and parameters: {'n_estimators': 120, 'max_depth': 10, 'learning_rate': 0.17789112866636117, 'subsample': 0.9996735607917375, 'colsample_bytree': 0.7272811941589443, 'gamma': 0.1608784150099491, 'scale_pos_weight': 3.1683006470525226}. Best is trial 11 with value: 0.8641711229946524.\n",
      "[I 2025-06-01 16:49:37,706] Trial 19 finished with value: 0.8565083703450631 and parameters: {'n_estimators': 122, 'max_depth': 9, 'learning_rate': 0.19682452470079564, 'subsample': 0.7628005874323215, 'colsample_bytree': 0.7161004935402736, 'gamma': 0.1469461645431611, 'scale_pos_weight': 3.5515988485501495}. Best is trial 11 with value: 0.8641711229946524.\n"
     ]
    },
    {
     "name": "stdout",
     "output_type": "stream",
     "text": [
      "Best parameters found for F1-score (pos_label=1): {'n_estimators': 106, 'max_depth': 10, 'learning_rate': 0.185519024522071, 'subsample': 0.92413848133984, 'colsample_bytree': 0.6332580990377376, 'gamma': 0.2063804114119132, 'scale_pos_weight': 1.4193237336299067}\n"
     ]
    }
   ],
   "source": [
    "print(\"Tuning XGB (Max Features)\")\n",
    "best_xgb = tune_and_train(X_train_selected_max, y_train, X_test_selected_max, y_test, model_type='xgb', n_trials=20)  # Adjust n_trials"
   ]
  },
  {
   "cell_type": "code",
   "execution_count": 33,
   "id": "e79d47e8",
   "metadata": {
    "execution": {
     "iopub.execute_input": "2025-06-01T16:49:42.075757Z",
     "iopub.status.busy": "2025-06-01T16:49:42.075426Z",
     "iopub.status.idle": "2025-06-01T16:49:56.626746Z",
     "shell.execute_reply": "2025-06-01T16:49:56.625766Z"
    },
    "papermill": {
     "duration": 14.573957,
     "end_time": "2025-06-01T16:49:56.628366",
     "exception": false,
     "start_time": "2025-06-01T16:49:42.054409",
     "status": "completed"
    },
    "tags": []
   },
   "outputs": [
    {
     "name": "stdout",
     "output_type": "stream",
     "text": [
      "\n",
      "--- Training XGB on ALL Features (55) using Best Params from 49-Feature (Max) Tuning ---\n",
      "\n",
      "--- Evaluating XGB on ALL Test Features (using Best Params from 49-Feature (Max) Tuning) ---\n",
      "\n",
      " 📌 XGB on ALL Features (Params from 49-feature (Max) tuning)\n",
      "Precision (class 1): 0.860\n",
      "Recall (class 1): 0.872\n",
      "F1 Score (class 1): 0.866\n",
      "Micro-Average F1: 0.990\n",
      "\n",
      "--- For Reference: Original Untuned XGBoost on ALL Features ---\n",
      "\n",
      " 📌 Original Untuned XGBoost on ALL Features\n",
      "Precision (class 1): 0.888\n",
      "Recall (class 1): 0.809\n",
      "F1 Score (class 1): 0.846\n",
      "Micro-Average F1: 0.989\n"
     ]
    }
   ],
   "source": [
    "from xgboost import XGBClassifier\n",
    "from sklearn.metrics import precision_recall_fscore_support, f1_score # Đảm bảo đã import\n",
    "import pandas as pd # Đảm bảo đã import\n",
    "import numpy as np  # Đảm bảo đã import\n",
    "\n",
    "\n",
    "\n",
    "params_from_49_features_xgb_max = {\n",
    "    'n_estimators': 300,\n",
    "    'max_depth': 9,\n",
    "    'learning_rate': 0.14240800583085475,\n",
    "    'subsample': 0.8754218103807754,\n",
    "    'colsample_bytree': 0.6044963243271011,\n",
    "    'gamma': 0.4213492954146869,\n",
    "    'scale_pos_weight': 4.415048911827471\n",
    "}\n",
    "\n",
    "# --- ÁP DỤNG params_from_49_features_xgb_max ĐỂ HUẤN LUYỆN MÔ HÌNH XGBOOST TRÊN DỮ LIỆU GỐC (55 FEATURES) ---\n",
    "print(\"\\n--- Training XGB on ALL Features (55) using Best Params from 49-Feature (Max) Tuning ---\")\n",
    "\n",
    "# Tạo một mô hình XGBoost mới với các tham số đã lấy được\n",
    "xgb_on_all_features_with_tuned_params = XGBClassifier(\n",
    "    **params_from_49_features_xgb_max, # Sử dụng bộ tham số đã tune\n",
    "    random_state=42,                  # Giữ random_state để có thể so sánh\n",
    "    use_label_encoder=False,          # Các tham số cố định khác\n",
    "    eval_metric='logloss',         \n",
    ")\n",
    "\n",
    "# Huấn luyện mô hình này trên X_train_scaled (chứa tất cả 55 features)\n",
    "xgb_on_all_features_with_tuned_params.fit(X_train_scaled, y_train)\n",
    "\n",
    "# Đánh giá mô hình này trên X_test_scaled (chứa tất cả 55 features)\n",
    "print(\"\\n--- Evaluating XGB on ALL Test Features (using Best Params from 49-Feature (Max) Tuning) ---\")\n",
    "y_pred_xgb_all_features_tuned = xgb_on_all_features_with_tuned_params.predict(X_test_scaled)\n",
    "evaluate_model(\"XGB on ALL Features (Params from 49-feature (Max) tuning)\", y_test, y_pred_xgb_all_features_tuned)\n",
    "\n",
    "\n",
    "# --- Để so sánh: Đánh giá lại mô hình XGBOOST gốc ban đầu (chưa tune, tất cả features) ---\n",
    "# Kết quả này bạn đã có, nhưng để đây cho đầy đủ\n",
    "print(\"\\n--- For Reference: Original Untuned XGBoost on ALL Features ---\")\n",
    "xgb_original = XGBClassifier(use_label_encoder=False, eval_metric='logloss', random_state=42)\n",
    "xgb_original.fit(X_train_scaled, y_train)\n",
    "y_pred_xgb_original = xgb_original.predict(X_test_scaled)\n",
    "evaluate_model(\"Original Untuned XGBoost on ALL Features\", y_test, y_pred_xgb_original)"
   ]
  }
 ],
 "metadata": {
  "kaggle": {
   "accelerator": "none",
   "dataSources": [
    {
     "datasetId": 7540825,
     "sourceId": 11989135,
     "sourceType": "datasetVersion"
    }
   ],
   "dockerImageVersionId": 31040,
   "isGpuEnabled": false,
   "isInternetEnabled": true,
   "language": "python",
   "sourceType": "notebook"
  },
  "kernelspec": {
   "display_name": "Python 3",
   "language": "python",
   "name": "python3"
  },
  "language_info": {
   "codemirror_mode": {
    "name": "ipython",
    "version": 3
   },
   "file_extension": ".py",
   "mimetype": "text/x-python",
   "name": "python",
   "nbconvert_exporter": "python",
   "pygments_lexer": "ipython3",
   "version": "3.11.11"
  },
  "papermill": {
   "default_parameters": {},
   "duration": 7294.895677,
   "end_time": "2025-06-01T16:49:59.860011",
   "environment_variables": {},
   "exception": null,
   "input_path": "__notebook__.ipynb",
   "output_path": "__notebook__.ipynb",
   "parameters": {},
   "start_time": "2025-06-01T14:48:24.964334",
   "version": "2.6.0"
  }
 },
 "nbformat": 4,
 "nbformat_minor": 5
}
